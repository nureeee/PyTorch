{
 "cells": [
  {
   "cell_type": "code",
   "execution_count": 1,
   "id": "172f496e",
   "metadata": {},
   "outputs": [],
   "source": [
    "import urllib.request\n",
    "import pandas as pd"
   ]
  },
  {
   "cell_type": "code",
   "execution_count": 9,
   "id": "c04107ce",
   "metadata": {},
   "outputs": [
    {
     "name": "stdout",
     "output_type": "stream",
     "text": [
      "Requirement already satisfied: torchtext in c:\\users\\cpb06gamen\\anaconda3\\lib\\site-packages (0.10.0)\n",
      "Requirement already satisfied: tqdm in c:\\users\\cpb06gamen\\anaconda3\\lib\\site-packages (from torchtext) (4.61.2)\n",
      "Requirement already satisfied: requests in c:\\users\\cpb06gamen\\anaconda3\\lib\\site-packages (from torchtext) (2.25.1)\n",
      "Requirement already satisfied: numpy in c:\\users\\cpb06gamen\\anaconda3\\lib\\site-packages (from torchtext) (1.21.1)\n",
      "Requirement already satisfied: torch==1.9.0 in c:\\users\\cpb06gamen\\anaconda3\\lib\\site-packages (from torchtext) (1.9.0+cu111)\n",
      "Requirement already satisfied: typing-extensions in c:\\users\\cpb06gamen\\anaconda3\\lib\\site-packages (from torch==1.9.0->torchtext) (3.7.4.3)\n",
      "Requirement already satisfied: idna<3,>=2.5 in c:\\users\\cpb06gamen\\anaconda3\\lib\\site-packages (from requests->torchtext) (2.10)\n",
      "Requirement already satisfied: urllib3<1.27,>=1.21.1 in c:\\users\\cpb06gamen\\anaconda3\\lib\\site-packages (from requests->torchtext) (1.26.6)\n",
      "Requirement already satisfied: certifi>=2017.4.17 in c:\\users\\cpb06gamen\\anaconda3\\lib\\site-packages (from requests->torchtext) (2021.5.30)\n",
      "Requirement already satisfied: chardet<5,>=3.0.2 in c:\\users\\cpb06gamen\\anaconda3\\lib\\site-packages (from requests->torchtext) (4.0.0)\n",
      "Requirement already satisfied: colorama in c:\\users\\cpb06gamen\\anaconda3\\lib\\site-packages (from tqdm->torchtext) (0.4.4)\n"
     ]
    },
    {
     "name": "stderr",
     "output_type": "stream",
     "text": [
      "WARNING: Ignoring invalid distribution -orchvision (c:\\users\\cpb06gamen\\anaconda3\\lib\\site-packages)\n",
      "WARNING: Ignoring invalid distribution -orch (c:\\users\\cpb06gamen\\anaconda3\\lib\\site-packages)\n",
      "WARNING: Ignoring invalid distribution -orchvision (c:\\users\\cpb06gamen\\anaconda3\\lib\\site-packages)\n",
      "WARNING: Ignoring invalid distribution -orch (c:\\users\\cpb06gamen\\anaconda3\\lib\\site-packages)\n",
      "WARNING: Ignoring invalid distribution -orchvision (c:\\users\\cpb06gamen\\anaconda3\\lib\\site-packages)\n",
      "WARNING: Ignoring invalid distribution -orch (c:\\users\\cpb06gamen\\anaconda3\\lib\\site-packages)\n",
      "WARNING: Ignoring invalid distribution -orchvision (c:\\users\\cpb06gamen\\anaconda3\\lib\\site-packages)\n",
      "WARNING: Ignoring invalid distribution -orch (c:\\users\\cpb06gamen\\anaconda3\\lib\\site-packages)\n",
      "WARNING: Ignoring invalid distribution -orchvision (c:\\users\\cpb06gamen\\anaconda3\\lib\\site-packages)\n",
      "WARNING: Ignoring invalid distribution -orch (c:\\users\\cpb06gamen\\anaconda3\\lib\\site-packages)\n",
      "WARNING: Ignoring invalid distribution -orchvision (c:\\users\\cpb06gamen\\anaconda3\\lib\\site-packages)\n",
      "WARNING: Ignoring invalid distribution -orch (c:\\users\\cpb06gamen\\anaconda3\\lib\\site-packages)\n"
     ]
    }
   ],
   "source": [
    "!pip install torchtext"
   ]
  },
  {
   "cell_type": "code",
   "execution_count": 2,
   "id": "1f6ce949",
   "metadata": {},
   "outputs": [
    {
     "data": {
      "text/plain": [
       "('IMDb_Reviews.csv', <http.client.HTTPMessage at 0x230ffc8ffa0>)"
      ]
     },
     "execution_count": 2,
     "metadata": {},
     "output_type": "execute_result"
    }
   ],
   "source": [
    "urllib.request.urlretrieve(\"https://raw.githubusercontent.com/LawrenceDuan/IMDb-Review-Analysis/master/IMDb_Reviews.csv\", filename=\"IMDb_Reviews.csv\")"
   ]
  },
  {
   "cell_type": "code",
   "execution_count": 3,
   "id": "3df87c22",
   "metadata": {},
   "outputs": [],
   "source": [
    "df = pd.read_csv('IMDb_Reviews.csv', encoding='latin1')"
   ]
  },
  {
   "cell_type": "code",
   "execution_count": 4,
   "id": "246a9555",
   "metadata": {},
   "outputs": [],
   "source": [
    "train_df = df[:25000]\n",
    "test_df = df[25000:]"
   ]
  },
  {
   "cell_type": "code",
   "execution_count": 21,
   "id": "58e6a5ad",
   "metadata": {},
   "outputs": [],
   "source": [
    "train_df.to_csv(\"train_data.csv\", index=False)\n",
    "test_df.to_csv(\"test_data.csv\", index=False)"
   ]
  },
  {
   "cell_type": "code",
   "execution_count": 14,
   "id": "72966e2c",
   "metadata": {},
   "outputs": [],
   "source": [
    "from torchtext.legacy import data  # torchtext.data 불러오기"
   ]
  },
  {
   "cell_type": "code",
   "execution_count": 15,
   "id": "6f3caeea",
   "metadata": {},
   "outputs": [],
   "source": [
    "# 필드 정의\n",
    "TEXT = data.Field(sequential=True, # 시퀀스 데이터 여부\n",
    "                  use_vocab=True, # 단어 집합을 만들 것인지 여부\n",
    "                  tokenize=str.split, # 토크나이저를 따로 사용하지 않고 split 사용\n",
    "                  lower=True, # 소문자화 할 것인지 여부\n",
    "                  batch_first=True, # 미니 배치를 앞으로 하여 데이터 불러오기\n",
    "                  fix_length=20) # 최대 허용 길이 / 이에 맞춰 패딩 작업\n",
    "\n",
    "LABEL = data.Field(sequential=False,\n",
    "                   use_vocab=False,\n",
    "                   batch_first=False,\n",
    "                   is_target=True) # 레이블 데이터 여부"
   ]
  },
  {
   "cell_type": "markdown",
   "id": "93847bfc",
   "metadata": {},
   "source": [
    "## 데이터셋 만들기"
   ]
  },
  {
   "cell_type": "code",
   "execution_count": 17,
   "id": "0d2e23c0",
   "metadata": {},
   "outputs": [],
   "source": [
    "from torchtext.legacy.data import TabularDataset # 필드에서 정의 했던 토큰화 방법으로 토큰화 수행\n",
    "from torchtext.legacy.data import Iterator"
   ]
  },
  {
   "cell_type": "code",
   "execution_count": 22,
   "id": "04918805",
   "metadata": {},
   "outputs": [],
   "source": [
    "train_data, test_data = TabularDataset.splits(\n",
    "        path='.', train='train_data.csv', test='test_data.csv', format='csv',\n",
    "        fields=[('text', TEXT), ('label', LABEL)], skip_header=True) # skip_header : 데이터의 첫본째 줄은 무시"
   ]
  },
  {
   "cell_type": "code",
   "execution_count": 23,
   "id": "29f1effe",
   "metadata": {},
   "outputs": [],
   "source": [
    "# 단어집합 만들기\n",
    "TEXT.build_vocab(train_data, min_freq=10, max_size=10000) # 단어집합 크기 설정"
   ]
  },
  {
   "cell_type": "code",
   "execution_count": 24,
   "id": "f905726f",
   "metadata": {},
   "outputs": [],
   "source": [
    "batch_size = 5\n",
    "train_loader = Iterator(dataset=train_data, batch_size = batch_size)\n",
    "batch = next(iter(train_loader)) # 첫번째 미니배치를 받아와서 batch라는 변수에 저장"
   ]
  },
  {
   "cell_type": "code",
   "execution_count": 25,
   "id": "c5e7f3f2",
   "metadata": {},
   "outputs": [
    {
     "name": "stdout",
     "output_type": "stream",
     "text": [
      "tensor([[   9,   39,  260,    2,  782,    0,  752,    0,   19,    2,    0, 2608,\n",
      "          269,    0,   11,    7,  192,    3, 4501,   30],\n",
      "        [   9, 1969,  328,   11,   18,    9,  281,    6,   37,  127,   12,   23,\n",
      "          950,    6,   28,  910,    4,   23,   39,  971],\n",
      "        [  43,   49,  705,    6, 8066,   12, 3540, 1442,  992,    0,   10, 1158,\n",
      "            7,    0,   16,    2, 1014,    0,    2,  277],\n",
      "        [  82,    5,  381,   10,   20, 1430,   88,    5,    2,  174,  125,    9,\n",
      "          307,    6,   26,    6,  109,    8, 3733,  913],\n",
      "        [4646,  550,    0,   40,    0,    9,  183, 1025, 1913,   16,  550,    0,\n",
      "           22, 2273,   21,    0, 2781,    5,  102, 4734]])\n"
     ]
    }
   ],
   "source": [
    "print(batch.text) # (배치크기 * fix_length)"
   ]
  },
  {
   "cell_type": "markdown",
   "id": "966b757b",
   "metadata": {},
   "source": [
    "## batch_first = False로 하였을 경우의 텐서 크기"
   ]
  },
  {
   "cell_type": "code",
   "execution_count": 30,
   "id": "0e39bc39",
   "metadata": {},
   "outputs": [],
   "source": [
    "# 필드 재정의\n",
    "TEXT = data.Field(sequential=True,\n",
    "                  use_vocab=True,\n",
    "                  tokenize=str.split,\n",
    "                  lower=True,\n",
    "                  fix_length=20)\n",
    "\n",
    "LABEL = data.Field(sequential=False,\n",
    "                   use_vocab=False,\n",
    "                   batch_first=False,\n",
    "                   is_target=True)"
   ]
  },
  {
   "cell_type": "code",
   "execution_count": 33,
   "id": "499821f4",
   "metadata": {},
   "outputs": [],
   "source": [
    "train_data, test_data = TabularDataset.splits(\n",
    "        path='.', train='train_data.csv', test='test_data.csv', format='csv',\n",
    "        fields=[('text', TEXT), ('label', LABEL)], skip_header=True)"
   ]
  },
  {
   "cell_type": "code",
   "execution_count": 34,
   "id": "e4de48d2",
   "metadata": {},
   "outputs": [],
   "source": [
    "TEXT.build_vocab(train_data, min_freq=10, max_size=10000)"
   ]
  },
  {
   "cell_type": "code",
   "execution_count": 35,
   "id": "b6b0734b",
   "metadata": {},
   "outputs": [],
   "source": [
    "batch_size = 5\n",
    "train_loader = Iterator(dataset=train_data, batch_size = batch_size)\n",
    "batch = next(iter(train_loader)) "
   ]
  },
  {
   "cell_type": "code",
   "execution_count": 36,
   "id": "0c611f9b",
   "metadata": {},
   "outputs": [
    {
     "name": "stdout",
     "output_type": "stream",
     "text": [
      "tensor([[   9,    9,   43,   82, 4646],\n",
      "        [  39, 1969,   49,    5,  550],\n",
      "        [ 260,  328,  705,  381,    0],\n",
      "        [   2,   11,    6,   10,   40],\n",
      "        [ 782,   18, 8066,   20,    0],\n",
      "        [   0,    9,   12, 1430,    9],\n",
      "        [ 752,  281, 3540,   88,  183],\n",
      "        [   0,    6, 1442,    5, 1025],\n",
      "        [  19,   37,  992,    2, 1913],\n",
      "        [   2,  127,    0,  174,   16],\n",
      "        [   0,   12,   10,  125,  550],\n",
      "        [2608,   23, 1158,    9,    0],\n",
      "        [ 269,  950,    7,  307,   22],\n",
      "        [   0,    6,    0,    6, 2273],\n",
      "        [  11,   28,   16,   26,   21],\n",
      "        [   7,  910,    2,    6,    0],\n",
      "        [ 192,    4, 1014,  109, 2781],\n",
      "        [   3,   23,    0,    8,    5],\n",
      "        [4501,   39,    2, 3733,  102],\n",
      "        [  30,  971,  277,  913, 4734]])\n"
     ]
    }
   ],
   "source": [
    "print(batch.text)"
   ]
  },
  {
   "cell_type": "code",
   "execution_count": 37,
   "id": "692c6750",
   "metadata": {},
   "outputs": [
    {
     "name": "stdout",
     "output_type": "stream",
     "text": [
      "torch.Size([20, 5])\n"
     ]
    }
   ],
   "source": [
    "print(batch.text.shape)"
   ]
  },
  {
   "cell_type": "code",
   "execution_count": null,
   "id": "d660c150",
   "metadata": {},
   "outputs": [],
   "source": []
  }
 ],
 "metadata": {
  "kernelspec": {
   "display_name": "Python 3",
   "language": "python",
   "name": "python3"
  },
  "language_info": {
   "codemirror_mode": {
    "name": "ipython",
    "version": 3
   },
   "file_extension": ".py",
   "mimetype": "text/x-python",
   "name": "python",
   "nbconvert_exporter": "python",
   "pygments_lexer": "ipython3",
   "version": "3.8.10"
  }
 },
 "nbformat": 4,
 "nbformat_minor": 5
}
