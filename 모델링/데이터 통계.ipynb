{
 "cells": [
  {
   "cell_type": "code",
   "execution_count": 1,
   "id": "d9c4e449",
   "metadata": {},
   "outputs": [],
   "source": [
    "import json\n",
    "import glob"
   ]
  },
  {
   "cell_type": "markdown",
   "id": "5659e53e",
   "metadata": {},
   "source": [
    "result = ''\n",
    "from tqdm import tqdm_notebook\n",
    "for f in tqdm_notebook(glob.glob(\"data/*.json\")):\n",
    "    with open(f, 'r', encoding='utf-8') as infile:\n",
    "        result += infile.read()"
   ]
  },
  {
   "cell_type": "code",
   "execution_count": 14,
   "id": "75adbfcf",
   "metadata": {},
   "outputs": [
    {
     "name": "stderr",
     "output_type": "stream",
     "text": [
      "<ipython-input-14-fbb973077767>:2: TqdmDeprecationWarning: This function will be removed in tqdm==5.0.0\n",
      "Please use `tqdm.notebook.tqdm` instead of `tqdm.tqdm_notebook`\n",
      "  for f in tqdm_notebook(glob.glob(\"C:/Users/CPB06GameN/Desktop/Tatoeba/Json/cleansing_data/*.json\")):\n"
     ]
    },
    {
     "data": {
      "application/vnd.jupyter.widget-view+json": {
       "model_id": "6def9c466fb545ad9f6c58954bf3b3aa",
       "version_major": 2,
       "version_minor": 0
      },
      "text/plain": [
       "  0%|          | 0/355 [00:00<?, ?it/s]"
      ]
     },
     "metadata": {},
     "output_type": "display_data"
    }
   ],
   "source": [
    "data = []\n",
    "for f in tqdm_notebook(glob.glob(\"data/*.json\")):\n",
    "    with open(f, 'r', encoding='utf-8') as infile:\n",
    "        data += json.load(infile)"
   ]
  },
  {
   "cell_type": "code",
   "execution_count": 15,
   "id": "1fbaf400",
   "metadata": {},
   "outputs": [],
   "source": [
    "with open(\".json\", 'w', encoding='utf-8') as new_file:\n",
    "    json.dump(data, new_file, ensure_ascii=False, indent=\"\\t\")"
   ]
  },
  {
   "cell_type": "code",
   "execution_count": 2,
   "id": "d385115e",
   "metadata": {},
   "outputs": [],
   "source": [
    "import json\n",
    "with open(, 'r', encoding='utf-8') as new_file:\n",
    "    data = json.load(new_file)"
   ]
  },
  {
   "cell_type": "code",
   "execution_count": 3,
   "id": "93a9f32b",
   "metadata": {},
   "outputs": [
    {
     "data": {
      "text/plain": [
       "3543830"
      ]
     },
     "execution_count": 3,
     "metadata": {},
     "output_type": "execute_result"
    }
   ],
   "source": [
    "len(data)"
   ]
  },
  {
   "cell_type": "code",
   "execution_count": 10,
   "id": "3dff4fd0",
   "metadata": {},
   "outputs": [
    {
     "data": {
      "text/plain": [
       "5"
      ]
     },
     "execution_count": 10,
     "metadata": {},
     "output_type": "execute_result"
    }
   ],
   "source": [
    "len(data[1]['src_text'].replace(\" \", \"\"))"
   ]
  },
  {
   "cell_type": "code",
   "execution_count": 14,
   "id": "97cc7752",
   "metadata": {},
   "outputs": [
    {
     "name": "stdout",
     "output_type": "stream",
     "text": [
      "98999137 95609191\n"
     ]
    }
   ],
   "source": [
    "a = 0\n",
    "b = 0\n",
    "for i in data:\n",
    "    a += len(i['src_text'].replace(\" \", \"\"))\n",
    "    b += len(i['tgt_text'].replace(\" \", \"\"))\n",
    "    \n",
    "print(a, b)"
   ]
  },
  {
   "cell_type": "code",
   "execution_count": 17,
   "id": "674d2ed0",
   "metadata": {},
   "outputs": [
    {
     "name": "stdout",
     "output_type": "stream",
     "text": [
      "{'hi', 'ja', 'ko', 'pt', 'zh', 'en', 'ar', 'de', 'it', 'id', 'fr', 'es', 'ru'}\n"
     ]
    }
   ],
   "source": [
    "s_lang = set()\n",
    "for i in data:\n",
    "    s_lang.add(i['src_lang'])\n",
    "print(s_lang)"
   ]
  },
  {
   "cell_type": "code",
   "execution_count": 18,
   "id": "a13660e3",
   "metadata": {},
   "outputs": [
    {
     "name": "stdout",
     "output_type": "stream",
     "text": [
      "{'hi', 'ja', 'ko', 'pt', 'zh', 'vi', 'en', 'de', 'it', 'id', 'fr', 'es', 'ru'}\n"
     ]
    }
   ],
   "source": [
    "t_lang = set()\n",
    "for i in data:\n",
    "    t_lang.add(i['tgt_lang'])\n",
    "print(t_lang)"
   ]
  },
  {
   "cell_type": "code",
   "execution_count": 25,
   "id": "a82dfc29",
   "metadata": {},
   "outputs": [
    {
     "data": {
      "text/plain": [
       "85"
      ]
     },
     "execution_count": 25,
     "metadata": {},
     "output_type": "execute_result"
    }
   ],
   "source": [
    "lang_pair = set()\n",
    "for i in data:\n",
    "     lang_pair.add((i['src_lang'], i['tgt_lang']))\n",
    "len(lang_pair)"
   ]
  },
  {
   "cell_type": "code",
   "execution_count": 26,
   "id": "c5337de9",
   "metadata": {},
   "outputs": [],
   "source": [
    "lang_pairs = list(lang_pair)"
   ]
  },
  {
   "cell_type": "code",
   "execution_count": 27,
   "id": "181ac3d1",
   "metadata": {},
   "outputs": [
    {
     "data": {
      "text/plain": [
       "85"
      ]
     },
     "execution_count": 27,
     "metadata": {},
     "output_type": "execute_result"
    }
   ],
   "source": [
    "len(lang_pairs)"
   ]
  },
  {
   "cell_type": "code",
   "execution_count": 88,
   "id": "77e6b40d",
   "metadata": {},
   "outputs": [],
   "source": [
    "for lang in s_lang:\n",
    "    globals()['src_lan_{}'.format(lang)] = 0"
   ]
  },
  {
   "cell_type": "code",
   "execution_count": 89,
   "id": "6ebc0e5c",
   "metadata": {},
   "outputs": [],
   "source": [
    "for i in data:\n",
    "    for lang in s_lang:\n",
    "        if i['src_lang'] == lang:\n",
    "            globals()['src_lan_{}'.format(lang)] += 1"
   ]
  },
  {
   "cell_type": "code",
   "execution_count": 90,
   "id": "e4e8aaec",
   "metadata": {},
   "outputs": [],
   "source": [
    "for lang in s_lang:\n",
    "    globals()['src_lan_w_{}'.format(lang)] = 0"
   ]
  },
  {
   "cell_type": "code",
   "execution_count": 91,
   "id": "506264e7",
   "metadata": {},
   "outputs": [],
   "source": [
    "for i in data:\n",
    "    for lang in s_lang:\n",
    "        if i['src_lang'] == lang:\n",
    "            globals()['src_lan_w_{}'.format(lang)] += len(i['src_text'].replace(\" \", \"\"))"
   ]
  },
  {
   "cell_type": "markdown",
   "id": "d9b858a7",
   "metadata": {},
   "source": [
    "for lang in s_lang:\n",
    "    print(lang, ':', globals()['src_lan_{}'.format(lang)],'/', globals()['src_lan_w_{}'.format(lang)] )"
   ]
  },
  {
   "cell_type": "code",
   "execution_count": 93,
   "id": "0be1127b",
   "metadata": {},
   "outputs": [
    {
     "data": {
      "text/plain": [
       "3543830"
      ]
     },
     "execution_count": 93,
     "metadata": {},
     "output_type": "execute_result"
    }
   ],
   "source": [
    "total_s = 0\n",
    "for lang in s_lang:\n",
    "    total_s += globals()['src_lan_{}'.format(lang)]\n",
    "total_s"
   ]
  },
  {
   "cell_type": "code",
   "execution_count": null,
   "id": "ca47c08d",
   "metadata": {},
   "outputs": [],
   "source": []
  },
  {
   "cell_type": "code",
   "execution_count": null,
   "id": "7c1410fe",
   "metadata": {},
   "outputs": [],
   "source": []
  },
  {
   "cell_type": "code",
   "execution_count": 94,
   "id": "708e3453",
   "metadata": {},
   "outputs": [],
   "source": [
    "for lang in t_lang:\n",
    "    globals()['tgt_lan_{}'.format(lang)] = 0"
   ]
  },
  {
   "cell_type": "code",
   "execution_count": 95,
   "id": "ace7cfa2",
   "metadata": {},
   "outputs": [],
   "source": [
    "for i in data:\n",
    "    for lang in t_lang:\n",
    "        if i['tgt_lang'] == lang:\n",
    "            globals()['tgt_lan_{}'.format(lang)] += 1"
   ]
  },
  {
   "cell_type": "code",
   "execution_count": 96,
   "id": "6cc1edf1",
   "metadata": {},
   "outputs": [],
   "source": [
    "for lang in t_lang:\n",
    "    globals()['tgt_lan_w_{}'.format(lang)] = 0"
   ]
  },
  {
   "cell_type": "code",
   "execution_count": 97,
   "id": "68341d3e",
   "metadata": {},
   "outputs": [],
   "source": [
    "for i in data:\n",
    "    for lang in t_lang:\n",
    "        if i['tgt_lang'] == lang:\n",
    "            globals()['tgt_lan_w_{}'.format(lang)] += len(i['tgt_text'].replace(\" \", \"\"))"
   ]
  },
  {
   "cell_type": "markdown",
   "id": "20f74559",
   "metadata": {},
   "source": [
    "for lang in t_lang:\n",
    "    print(lang, ':', globals()['tgt_lan_{}'.format(lang)],'/', globals()['tgt_lan_w_{}'.format(lang)] )"
   ]
  },
  {
   "cell_type": "code",
   "execution_count": 99,
   "id": "1fe794aa",
   "metadata": {},
   "outputs": [
    {
     "data": {
      "text/plain": [
       "3543830"
      ]
     },
     "execution_count": 99,
     "metadata": {},
     "output_type": "execute_result"
    }
   ],
   "source": [
    "total_t = 0\n",
    "for lang in t_lang:\n",
    "    total_t += globals()['tgt_lan_{}'.format(lang)]\n",
    "total_t"
   ]
  },
  {
   "cell_type": "code",
   "execution_count": null,
   "id": "41a41307",
   "metadata": {},
   "outputs": [],
   "source": []
  },
  {
   "cell_type": "code",
   "execution_count": null,
   "id": "7b16ee04",
   "metadata": {},
   "outputs": [],
   "source": []
  }
 ],
 "metadata": {
  "kernelspec": {
   "display_name": "Python 3",
   "language": "python",
   "name": "python3"
  },
  "language_info": {
   "codemirror_mode": {
    "name": "ipython",
    "version": 3
   },
   "file_extension": ".py",
   "mimetype": "text/x-python",
   "name": "python",
   "nbconvert_exporter": "python",
   "pygments_lexer": "ipython3",
   "version": "3.8.10"
  }
 },
 "nbformat": 4,
 "nbformat_minor": 5
}
