{
 "cells": [
  {
   "cell_type": "markdown",
   "id": "2743374f",
   "metadata": {},
   "source": [
    "## 데이터 불러오기"
   ]
  },
  {
   "cell_type": "code",
   "execution_count": 1,
   "id": "0319a1d2",
   "metadata": {},
   "outputs": [],
   "source": [
    "import numpy as np\n",
    "import pandas as pd\n",
    "import requests\n",
    "from bs4 import BeautifulSoup\n",
    "import time"
   ]
  },
  {
   "cell_type": "code",
   "execution_count": 2,
   "id": "5d397430",
   "metadata": {},
   "outputs": [
    {
     "name": "stderr",
     "output_type": "stream",
     "text": [
      "<ipython-input-2-bf8b9c4eba3a>:3: TqdmDeprecationWarning: This function will be removed in tqdm==5.0.0\n",
      "Please use `tqdm.notebook.tqdm` instead of `tqdm.tqdm_notebook`\n",
      "  for i in tqdm_notebook(range(599614, 599620)):\n"
     ]
    },
    {
     "data": {
      "application/vnd.jupyter.widget-view+json": {
       "model_id": "4231a8a7b4e146dd9e83935956de15e4",
       "version_major": 2,
       "version_minor": 0
      },
      "text/plain": [
       "  0%|          | 0/6 [00:00<?, ?it/s]"
      ]
     },
     "metadata": {},
     "output_type": "display_data"
    }
   ],
   "source": [
    "from tqdm import tqdm_notebook\n",
    "result = pd.DataFrame()\n",
    "for i in tqdm_notebook(range(599614, 599620)):\n",
    "    URL = \"https://www1.president.go.kr/petitions/\" + str(i)\n",
    "    \n",
    "    response = requests.get(URL)\n",
    "    html = response.text\n",
    "    soup = BeautifulSoup(html, 'html.parser')\n",
    "    title = soup.find('h3', class_='petitionsView_title')\n",
    "    count = soup.find('span', class_='counter')\n",
    "    \n",
    "    for content in soup.select('div.petitionsView_write > div.View_write'):\n",
    "        content\n",
    "        \n",
    "        a = []\n",
    "        for tag in soup.select('ul.petitionsView_info_list > li'):\n",
    "            a.append(tag.contents[1])\n",
    "            \n",
    "        if len(a) != 0:\n",
    "            df1 = pd.DataFrame({'start':[a[1]],\n",
    "                               'end' : [a[2]],\n",
    "                               'category': [a[0]],\n",
    "                               'count' : [count.text],\n",
    "                               'title' : [title.text],\n",
    "                               'content': [content.text.strip()[0:13000]]\n",
    "                               })\n",
    "            result = pd.concat([result, df1])\n",
    "            \n",
    "            result.index = np.arange(len(result))\n",
    "            \n",
    "        if i % 60 == 0:\n",
    "            print('sleep 90seconds Count:' + str(i)\n",
    "                 +\", Local Time : \")\n",
    "            +time.strftime('%y-%m-%d', time.localtime(time.time()))\n",
    "            + \" \"+ time.strftime('%X', time.localtime(time.time()))\n",
    "            + \", Data Length:\" + str(len(result))\n",
    "        time.sleep(90)"
   ]
  },
  {
   "cell_type": "code",
   "execution_count": 3,
   "id": "d08f52ac",
   "metadata": {},
   "outputs": [
    {
     "name": "stdout",
     "output_type": "stream",
     "text": [
      "(7, 6)\n"
     ]
    }
   ],
   "source": [
    "print(result.shape)"
   ]
  },
  {
   "cell_type": "code",
   "execution_count": 4,
   "id": "f9094677",
   "metadata": {},
   "outputs": [
    {
     "data": {
      "text/html": [
       "<div>\n",
       "<style scoped>\n",
       "    .dataframe tbody tr th:only-of-type {\n",
       "        vertical-align: middle;\n",
       "    }\n",
       "\n",
       "    .dataframe tbody tr th {\n",
       "        vertical-align: top;\n",
       "    }\n",
       "\n",
       "    .dataframe thead th {\n",
       "        text-align: right;\n",
       "    }\n",
       "</style>\n",
       "<table border=\"1\" class=\"dataframe\">\n",
       "  <thead>\n",
       "    <tr style=\"text-align: right;\">\n",
       "      <th></th>\n",
       "      <th>start</th>\n",
       "      <th>end</th>\n",
       "      <th>category</th>\n",
       "      <th>count</th>\n",
       "      <th>title</th>\n",
       "      <th>content</th>\n",
       "    </tr>\n",
       "  </thead>\n",
       "  <tbody>\n",
       "    <tr>\n",
       "      <th>0</th>\n",
       "      <td>2021-07-06</td>\n",
       "      <td>2021-08-05</td>\n",
       "      <td>인권/성평등</td>\n",
       "      <td>213,854</td>\n",
       "      <td>학교 폭력으로 인해 생을 마감한 아들의 억울함을 풀어주세요.</td>\n",
       "      <td></td>\n",
       "    </tr>\n",
       "    <tr>\n",
       "      <th>1</th>\n",
       "      <td>2021-07-06</td>\n",
       "      <td>2021-08-05</td>\n",
       "      <td>인권/성평등</td>\n",
       "      <td>213,854</td>\n",
       "      <td>학교 폭력으로 인해 생을 마감한 아들의 억울함을 풀어주세요.</td>\n",
       "      <td>&lt;학교 폭력으로 인해 생을 마감한 아들의 억울함과 가해자의 처벌 그리고 학교 폭력 ...</td>\n",
       "    </tr>\n",
       "    <tr>\n",
       "      <th>2</th>\n",
       "      <td>2021-07-06</td>\n",
       "      <td>2021-08-05</td>\n",
       "      <td>문화/예술/체육/언론</td>\n",
       "      <td>2,764</td>\n",
       "      <td>학생선수들의 꿈을 지켜주세요</td>\n",
       "      <td>펜싱선수 **의 꿈을 지켜주세요 짓밟지말아주세요\\r\\n학생선수로서 공부와 운동에 최...</td>\n",
       "    </tr>\n",
       "    <tr>\n",
       "      <th>3</th>\n",
       "      <td>2021-07-06</td>\n",
       "      <td>2021-08-05</td>\n",
       "      <td>보건복지</td>\n",
       "      <td>568</td>\n",
       "      <td>질병 관리청장님은 백신과의 인과성과 부작용을 해명하고 보상안을 발표하여 주세요</td>\n",
       "      <td>백신으로 인한 부작용 이상 반응 사례자들이 갈 수록 늘어나고 있습니다. 원인을 알수...</td>\n",
       "    </tr>\n",
       "    <tr>\n",
       "      <th>4</th>\n",
       "      <td>2021-07-06</td>\n",
       "      <td>2021-08-05</td>\n",
       "      <td>육아/교육</td>\n",
       "      <td>1,047</td>\n",
       "      <td>유치원 cctv 설치 여부 논란에 관한 유치원교사의 개인적인 의견입니다.</td>\n",
       "      <td>글을 쓰기에 앞서 이 글은 저의 개인적인 의견임을 먼저 밝힙니다.\\n\\r\\n안녕하세...</td>\n",
       "    </tr>\n",
       "  </tbody>\n",
       "</table>\n",
       "</div>"
      ],
      "text/plain": [
       "        start         end     category    count  \\\n",
       "0  2021-07-06  2021-08-05       인권/성평등  213,854   \n",
       "1  2021-07-06  2021-08-05       인권/성평등  213,854   \n",
       "2  2021-07-06  2021-08-05  문화/예술/체육/언론    2,764   \n",
       "3  2021-07-06  2021-08-05         보건복지      568   \n",
       "4  2021-07-06  2021-08-05        육아/교육    1,047   \n",
       "\n",
       "                                         title  \\\n",
       "0            학교 폭력으로 인해 생을 마감한 아들의 억울함을 풀어주세요.   \n",
       "1            학교 폭력으로 인해 생을 마감한 아들의 억울함을 풀어주세요.   \n",
       "2                              학생선수들의 꿈을 지켜주세요   \n",
       "3  질병 관리청장님은 백신과의 인과성과 부작용을 해명하고 보상안을 발표하여 주세요   \n",
       "4     유치원 cctv 설치 여부 논란에 관한 유치원교사의 개인적인 의견입니다.   \n",
       "\n",
       "                                             content  \n",
       "0                                                     \n",
       "1  <학교 폭력으로 인해 생을 마감한 아들의 억울함과 가해자의 처벌 그리고 학교 폭력 ...  \n",
       "2  펜싱선수 **의 꿈을 지켜주세요 짓밟지말아주세요\\r\\n학생선수로서 공부와 운동에 최...  \n",
       "3  백신으로 인한 부작용 이상 반응 사례자들이 갈 수록 늘어나고 있습니다. 원인을 알수...  \n",
       "4  글을 쓰기에 앞서 이 글은 저의 개인적인 의견임을 먼저 밝힙니다.\\n\\r\\n안녕하세...  "
      ]
     },
     "execution_count": 4,
     "metadata": {},
     "output_type": "execute_result"
    }
   ],
   "source": [
    "df = result\n",
    "df.head()"
   ]
  },
  {
   "cell_type": "code",
   "execution_count": 5,
   "id": "77962aba",
   "metadata": {},
   "outputs": [
    {
     "data": {
      "text/plain": [
       "'<학교 폭력으로 인해 생을 마감한 아들의 억울함과 가해자의 처벌 그리고 학교 폭력 없는 세상이 올 수 있도록 도와 주세요>\\n\\r\\n6월 29일 화요일 환하게 웃는 표정으로 손을 흔들며 학교에 간다던 아들이 학교에 가지 않고 인근 산으로 가 스스로 생을 마감했습니다. \\r\\n장례를 치르던 중 교실에서 폭행을 당하고 있는 아들의 모습이 담긴 영상을 제보받고 이유를 알게 되었습니다. 수년간의 학교폭력을 견디다 못해 스스로 선택한 마지막 길이였다는 것을...\\n\\r\\n아들이 매일 웃으며 저의 퇴근길을 반겨주었는데... 학교에서 친구들과 잘 지낸다고 항상 씩씩하게 말하던 녀석인데. 속으로 그 큰 고통을 혼자 참고 견디고 있었다는 것을 생각하니 아비로써 너무나 가슴이 아픕니다.\\n\\r\\n지금부터 시작입니다. 학교 폭력을 가한 가해 학생들이 엄중한 처벌을 받을 수 있도록, 국민 여러분 저희가 지지치 않고 싸울 수 있도록 옆에서 함께 해주십시오\\r\\n우리 아들의 억울함을 풀고, 학교 폭력이 없는 세상이 오도록 끝까지 도와주십시오.\\n\\n [본 게시물의 일부 내용이 국민 청원 요건에 위배되어 관리자에 의해 수정되었습니다]'"
      ]
     },
     "execution_count": 5,
     "metadata": {},
     "output_type": "execute_result"
    }
   ],
   "source": [
    "df.loc[1]['content']"
   ]
  },
  {
   "cell_type": "markdown",
   "id": "10611810",
   "metadata": {},
   "source": [
    "## 데이터 전처리"
   ]
  },
  {
   "cell_type": "code",
   "execution_count": 6,
   "id": "5067e4d3",
   "metadata": {},
   "outputs": [],
   "source": [
    "import re\n",
    "# 공백문자를 모두 공백으로 치환한다.\n",
    "def remove_white_space(text):\n",
    "    text = re.sub(r'[\\t\\r\\n\\f\\v]', ' ', str(text))\n",
    "    return text\n",
    "\n",
    "# 한글과 숫자를 제외한 모든 문자 제거 -> 특수 문자 제거\n",
    "def remove_special_char(text):\n",
    "    text = re.sub('[^ ㄱ-ㅣ가-힣0-9]+', ' ', str(text))\n",
    "    return text\n",
    "\n",
    "df.title = df.title.apply(remove_white_space)\n",
    "df.title = df.title.apply(remove_special_char)\n",
    "\n",
    "df.content = df.content.apply(remove_white_space)\n",
    "df.content = df.content.apply(remove_special_char)"
   ]
  },
  {
   "cell_type": "code",
   "execution_count": 7,
   "id": "39e7711f",
   "metadata": {},
   "outputs": [
    {
     "data": {
      "text/plain": [
       "' 학교 폭력으로 인해 생을 마감한 아들의 억울함과 가해자의 처벌 그리고 학교 폭력 없는 세상이 올 수 있도록 도와 주세요    6월 29일 화요일 환하게 웃는 표정으로 손을 흔들며 학교에 간다던 아들이 학교에 가지 않고 인근 산으로 가 스스로 생을 마감했습니다    장례를 치르던 중 교실에서 폭행을 당하고 있는 아들의 모습이 담긴 영상을 제보받고 이유를 알게 되었습니다  수년간의 학교폭력을 견디다 못해 스스로 선택한 마지막 길이였다는 것을    아들이 매일 웃으며 저의 퇴근길을 반겨주었는데  학교에서 친구들과 잘 지낸다고 항상 씩씩하게 말하던 녀석인데  속으로 그 큰 고통을 혼자 참고 견디고 있었다는 것을 생각하니 아비로써 너무나 가슴이 아픕니다    지금부터 시작입니다  학교 폭력을 가한 가해 학생들이 엄중한 처벌을 받을 수 있도록  국민 여러분 저희가 지지치 않고 싸울 수 있도록 옆에서 함께 해주십시오  우리 아들의 억울함을 풀고  학교 폭력이 없는 세상이 오도록 끝까지 도와주십시오     본 게시물의 일부 내용이 국민 청원 요건에 위배되어 관리자에 의해 수정되었습니다 '"
      ]
     },
     "execution_count": 7,
     "metadata": {},
     "output_type": "execute_result"
    }
   ],
   "source": [
    "df.loc[1]['content']"
   ]
  },
  {
   "cell_type": "markdown",
   "id": "98d7a109",
   "metadata": {},
   "source": [
    "## 토큰나이징 "
   ]
  },
  {
   "cell_type": "code",
   "execution_count": 8,
   "id": "e01e3ebf",
   "metadata": {},
   "outputs": [
    {
     "name": "stdout",
     "output_type": "stream",
     "text": [
      "Requirement already satisfied: konlpy in c:\\users\\cpb06gamen\\anaconda3\\lib\\site-packages (0.5.2)\n",
      "Requirement already satisfied: JPype1>=0.7.0 in c:\\users\\cpb06gamen\\anaconda3\\lib\\site-packages (from konlpy) (1.3.0)\n",
      "Requirement already satisfied: tweepy>=3.7.0 in c:\\users\\cpb06gamen\\anaconda3\\lib\\site-packages (from konlpy) (3.10.0)\n",
      "Requirement already satisfied: lxml>=4.1.0 in c:\\users\\cpb06gamen\\anaconda3\\lib\\site-packages (from konlpy) (4.6.3)\n",
      "Requirement already satisfied: numpy>=1.6 in c:\\users\\cpb06gamen\\anaconda3\\lib\\site-packages (from konlpy) (1.21.2)\n",
      "Requirement already satisfied: beautifulsoup4==4.6.0 in c:\\users\\cpb06gamen\\anaconda3\\lib\\site-packages (from konlpy) (4.6.0)\n",
      "Requirement already satisfied: colorama in c:\\users\\cpb06gamen\\anaconda3\\lib\\site-packages (from konlpy) (0.4.4)\n",
      "Requirement already satisfied: requests[socks]>=2.11.1 in c:\\users\\cpb06gamen\\anaconda3\\lib\\site-packages (from tweepy>=3.7.0->konlpy) (2.25.1)\n",
      "Requirement already satisfied: six>=1.10.0 in c:\\users\\cpb06gamen\\anaconda3\\lib\\site-packages (from tweepy>=3.7.0->konlpy) (1.15.0)\n",
      "Requirement already satisfied: requests-oauthlib>=0.7.0 in c:\\users\\cpb06gamen\\anaconda3\\lib\\site-packages (from tweepy>=3.7.0->konlpy) (1.3.0)\n",
      "Requirement already satisfied: oauthlib>=3.0.0 in c:\\users\\cpb06gamen\\anaconda3\\lib\\site-packages (from requests-oauthlib>=0.7.0->tweepy>=3.7.0->konlpy) (3.1.1)\n",
      "Requirement already satisfied: certifi>=2017.4.17 in c:\\users\\cpb06gamen\\anaconda3\\lib\\site-packages (from requests[socks]>=2.11.1->tweepy>=3.7.0->konlpy) (2021.5.30)\n",
      "Requirement already satisfied: chardet<5,>=3.0.2 in c:\\users\\cpb06gamen\\anaconda3\\lib\\site-packages (from requests[socks]>=2.11.1->tweepy>=3.7.0->konlpy) (4.0.0)\n",
      "Requirement already satisfied: urllib3<1.27,>=1.21.1 in c:\\users\\cpb06gamen\\anaconda3\\lib\\site-packages (from requests[socks]>=2.11.1->tweepy>=3.7.0->konlpy) (1.26.6)\n",
      "Requirement already satisfied: idna<3,>=2.5 in c:\\users\\cpb06gamen\\anaconda3\\lib\\site-packages (from requests[socks]>=2.11.1->tweepy>=3.7.0->konlpy) (2.10)\n",
      "Requirement already satisfied: PySocks!=1.5.7,>=1.5.6 in c:\\users\\cpb06gamen\\anaconda3\\lib\\site-packages (from requests[socks]>=2.11.1->tweepy>=3.7.0->konlpy) (1.7.1)\n"
     ]
    },
    {
     "name": "stderr",
     "output_type": "stream",
     "text": [
      "WARNING: Ignoring invalid distribution -orchvision (c:\\users\\cpb06gamen\\anaconda3\\lib\\site-packages)\n",
      "WARNING: Ignoring invalid distribution -orch (c:\\users\\cpb06gamen\\anaconda3\\lib\\site-packages)\n",
      "WARNING: Ignoring invalid distribution -orchvision (c:\\users\\cpb06gamen\\anaconda3\\lib\\site-packages)\n",
      "WARNING: Ignoring invalid distribution -orch (c:\\users\\cpb06gamen\\anaconda3\\lib\\site-packages)\n",
      "WARNING: Ignoring invalid distribution -orchvision (c:\\users\\cpb06gamen\\anaconda3\\lib\\site-packages)\n",
      "WARNING: Ignoring invalid distribution -orch (c:\\users\\cpb06gamen\\anaconda3\\lib\\site-packages)\n",
      "WARNING: Ignoring invalid distribution -orchvision (c:\\users\\cpb06gamen\\anaconda3\\lib\\site-packages)\n",
      "WARNING: Ignoring invalid distribution -orch (c:\\users\\cpb06gamen\\anaconda3\\lib\\site-packages)\n",
      "WARNING: Ignoring invalid distribution -orchvision (c:\\users\\cpb06gamen\\anaconda3\\lib\\site-packages)\n",
      "WARNING: Ignoring invalid distribution -orch (c:\\users\\cpb06gamen\\anaconda3\\lib\\site-packages)\n"
     ]
    }
   ],
   "source": [
    "!pip install konlpy"
   ]
  },
  {
   "cell_type": "code",
   "execution_count": 9,
   "id": "722041a7",
   "metadata": {},
   "outputs": [],
   "source": [
    "from konlpy.tag import Okt"
   ]
  },
  {
   "cell_type": "code",
   "execution_count": 10,
   "id": "c98347cd",
   "metadata": {},
   "outputs": [
    {
     "ename": "SystemError",
     "evalue": "java.nio.file.InvalidPathException: Illegal char <*> at index 60: C:\\Users\\CPB06GameN\\anaconda3\\Lib\\site-packages\\konlpy\\java\\*",
     "output_type": "error",
     "traceback": [
      "\u001b[1;31m---------------------------------------------------------------------------\u001b[0m",
      "\u001b[1;31mSystemError\u001b[0m                               Traceback (most recent call last)",
      "\u001b[1;32m<ipython-input-10-2f05c06f5427>\u001b[0m in \u001b[0;36m<module>\u001b[1;34m\u001b[0m\n\u001b[1;32m----> 1\u001b[1;33m \u001b[0mokt\u001b[0m \u001b[1;33m=\u001b[0m \u001b[0mOkt\u001b[0m\u001b[1;33m(\u001b[0m\u001b[1;33m)\u001b[0m\u001b[1;33m\u001b[0m\u001b[1;33m\u001b[0m\u001b[0m\n\u001b[0m\u001b[0;32m      2\u001b[0m \u001b[1;33m\u001b[0m\u001b[0m\n\u001b[0;32m      3\u001b[0m \u001b[0mdf\u001b[0m\u001b[1;33m[\u001b[0m\u001b[1;34m'title_token'\u001b[0m\u001b[1;33m]\u001b[0m \u001b[1;33m=\u001b[0m \u001b[0mdf\u001b[0m\u001b[1;33m.\u001b[0m\u001b[0mtitle\u001b[0m\u001b[1;33m.\u001b[0m\u001b[0mapply\u001b[0m\u001b[1;33m(\u001b[0m\u001b[0mokt\u001b[0m\u001b[1;33m.\u001b[0m\u001b[0mmorphs\u001b[0m\u001b[1;33m)\u001b[0m\u001b[1;33m\u001b[0m\u001b[1;33m\u001b[0m\u001b[0m\n\u001b[0;32m      4\u001b[0m \u001b[0mdf\u001b[0m\u001b[1;33m[\u001b[0m\u001b[1;34m'content_token'\u001b[0m\u001b[1;33m]\u001b[0m \u001b[1;33m=\u001b[0m \u001b[0mdf\u001b[0m\u001b[1;33m.\u001b[0m\u001b[0mcontent\u001b[0m\u001b[1;33m.\u001b[0m\u001b[0mapply\u001b[0m\u001b[1;33m(\u001b[0m\u001b[0mokt\u001b[0m\u001b[1;33m.\u001b[0m\u001b[0mnouns\u001b[0m\u001b[1;33m)\u001b[0m\u001b[1;33m\u001b[0m\u001b[1;33m\u001b[0m\u001b[0m\n",
      "\u001b[1;32m~\\anaconda3\\lib\\site-packages\\konlpy\\tag\\_okt.py\u001b[0m in \u001b[0;36m__init__\u001b[1;34m(self, jvmpath, max_heap_size)\u001b[0m\n\u001b[0;32m     89\u001b[0m     \u001b[1;32mdef\u001b[0m \u001b[0m__init__\u001b[0m\u001b[1;33m(\u001b[0m\u001b[0mself\u001b[0m\u001b[1;33m,\u001b[0m \u001b[0mjvmpath\u001b[0m\u001b[1;33m=\u001b[0m\u001b[1;32mNone\u001b[0m\u001b[1;33m,\u001b[0m \u001b[0mmax_heap_size\u001b[0m\u001b[1;33m=\u001b[0m\u001b[1;36m1024\u001b[0m\u001b[1;33m)\u001b[0m\u001b[1;33m:\u001b[0m\u001b[1;33m\u001b[0m\u001b[1;33m\u001b[0m\u001b[0m\n\u001b[0;32m     90\u001b[0m         \u001b[1;32mif\u001b[0m \u001b[1;32mnot\u001b[0m \u001b[0mjpype\u001b[0m\u001b[1;33m.\u001b[0m\u001b[0misJVMStarted\u001b[0m\u001b[1;33m(\u001b[0m\u001b[1;33m)\u001b[0m\u001b[1;33m:\u001b[0m\u001b[1;33m\u001b[0m\u001b[1;33m\u001b[0m\u001b[0m\n\u001b[1;32m---> 91\u001b[1;33m             \u001b[0mjvm\u001b[0m\u001b[1;33m.\u001b[0m\u001b[0minit_jvm\u001b[0m\u001b[1;33m(\u001b[0m\u001b[0mjvmpath\u001b[0m\u001b[1;33m,\u001b[0m \u001b[0mmax_heap_size\u001b[0m\u001b[1;33m)\u001b[0m\u001b[1;33m\u001b[0m\u001b[1;33m\u001b[0m\u001b[0m\n\u001b[0m\u001b[0;32m     92\u001b[0m \u001b[1;33m\u001b[0m\u001b[0m\n\u001b[0;32m     93\u001b[0m         \u001b[0moktJavaPackage\u001b[0m \u001b[1;33m=\u001b[0m \u001b[0mjpype\u001b[0m\u001b[1;33m.\u001b[0m\u001b[0mJPackage\u001b[0m\u001b[1;33m(\u001b[0m\u001b[1;34m'kr.lucypark.okt'\u001b[0m\u001b[1;33m)\u001b[0m\u001b[1;33m\u001b[0m\u001b[1;33m\u001b[0m\u001b[0m\n",
      "\u001b[1;32m~\\anaconda3\\lib\\site-packages\\konlpy\\jvm.py\u001b[0m in \u001b[0;36minit_jvm\u001b[1;34m(jvmpath, max_heap_size)\u001b[0m\n\u001b[0;32m     62\u001b[0m \u001b[1;33m\u001b[0m\u001b[0m\n\u001b[0;32m     63\u001b[0m     \u001b[1;32mif\u001b[0m \u001b[0mjvmpath\u001b[0m\u001b[1;33m:\u001b[0m\u001b[1;33m\u001b[0m\u001b[1;33m\u001b[0m\u001b[0m\n\u001b[1;32m---> 64\u001b[1;33m         jpype.startJVM(jvmpath, '-Djava.class.path=%s' % classpath,\n\u001b[0m\u001b[0;32m     65\u001b[0m                                 \u001b[1;34m'-Dfile.encoding=UTF8'\u001b[0m\u001b[1;33m,\u001b[0m\u001b[1;33m\u001b[0m\u001b[1;33m\u001b[0m\u001b[0m\n\u001b[0;32m     66\u001b[0m                                 \u001b[1;34m'-ea'\u001b[0m\u001b[1;33m,\u001b[0m \u001b[1;34m'-Xmx{}m'\u001b[0m\u001b[1;33m.\u001b[0m\u001b[0mformat\u001b[0m\u001b[1;33m(\u001b[0m\u001b[0mmax_heap_size\u001b[0m\u001b[1;33m)\u001b[0m\u001b[1;33m,\u001b[0m\u001b[1;33m\u001b[0m\u001b[1;33m\u001b[0m\u001b[0m\n",
      "\u001b[1;32m~\\anaconda3\\lib\\site-packages\\jpype\\_core.py\u001b[0m in \u001b[0;36mstartJVM\u001b[1;34m(*args, **kwargs)\u001b[0m\n\u001b[0;32m    224\u001b[0m \u001b[1;33m\u001b[0m\u001b[0m\n\u001b[0;32m    225\u001b[0m     \u001b[1;32mtry\u001b[0m\u001b[1;33m:\u001b[0m\u001b[1;33m\u001b[0m\u001b[1;33m\u001b[0m\u001b[0m\n\u001b[1;32m--> 226\u001b[1;33m         _jpype.startup(jvmpath, tuple(args),\n\u001b[0m\u001b[0;32m    227\u001b[0m                        ignoreUnrecognized, convertStrings, interrupt)\n\u001b[0;32m    228\u001b[0m         \u001b[0minitializeResources\u001b[0m\u001b[1;33m(\u001b[0m\u001b[1;33m)\u001b[0m\u001b[1;33m\u001b[0m\u001b[1;33m\u001b[0m\u001b[0m\n",
      "\u001b[1;31mSystemError\u001b[0m: java.nio.file.InvalidPathException: Illegal char <*> at index 60: C:\\Users\\CPB06GameN\\anaconda3\\Lib\\site-packages\\konlpy\\java\\*"
     ]
    }
   ],
   "source": [
    "okt = Okt()\n",
    "\n",
    "df['title_token'] = df.title.apply(okt.morphs)\n",
    "df['content_token'] = df.content.apply(okt.nouns)"
   ]
  },
  {
   "cell_type": "code",
   "execution_count": null,
   "id": "a0c2c2c6",
   "metadata": {},
   "outputs": [],
   "source": [
    "df['token_final'] = df.title_token + df.content_token\n",
    "\n",
    "df['count'] = df['count'].replace({',' : ''}, regex = True).apply(lambda x : int(x))\n",
    "print(df.dtypes)"
   ]
  },
  {
   "cell_type": "code",
   "execution_count": null,
   "id": "18d25179",
   "metadata": {},
   "outputs": [],
   "source": [
    "df['label'] = df['count'].apply(lambda x: 'yes' if x>=1000 else 'no')"
   ]
  },
  {
   "cell_type": "code",
   "execution_count": null,
   "id": "53a342a9",
   "metadata": {},
   "outputs": [],
   "source": [
    "df_drop = df[['token_final', 'label']]"
   ]
  },
  {
   "cell_type": "code",
   "execution_count": null,
   "id": "e5087e5a",
   "metadata": {},
   "outputs": [],
   "source": [
    "from gensim.models import Word2Vec"
   ]
  },
  {
   "cell_type": "code",
   "execution_count": null,
   "id": "5e9076f4",
   "metadata": {},
   "outputs": [],
   "source": [
    "emb_model = Word2Vec(df_drop['token_final'],\n",
    "                     sg = 1,\n",
    "                     size = 100,\n",
    "                     window = 2,\n",
    "                     min_count = 1,\n",
    "                     workers = 4\n",
    "\n",
    ")\n",
    "\n",
    "print(emb_model)\n",
    "model_result = emb_model.wv.most_similar('폭력')\n",
    "print(model_result)"
   ]
  },
  {
   "cell_type": "code",
   "execution_count": null,
   "id": "6af41709",
   "metadata": {},
   "outputs": [],
   "source": [
    "from gensim.models import KeyedVectors\n",
    "emb_model.wv.save_word2vec_format('/content/data')\n",
    "loaded_model = KeyedVectors.load_word2vec_format('/content/data')\n",
    "modle_result = loaded_model.most_similar('폭력')\n",
    "print(modle_result )"
   ]
  },
  {
   "cell_type": "code",
   "execution_count": null,
   "id": "cd262db1",
   "metadata": {},
   "outputs": [],
   "source": [
    "from numpy.random import RandomState\n",
    "rng = RandomState()\n",
    "\n",
    "tr = df_drop.sample(frac=0.8, random_state=rng)\n",
    "val = df_drop.loc[~df_drop.index.isin(tr.index)]\n",
    "\n",
    "tr.to_csv('/content/train.csv', index=False, encoding='utf-8-sig')\n",
    "val.to_csv('/content/val.csv', index=False, encoding='utf-8-sig')"
   ]
  },
  {
   "cell_type": "code",
   "execution_count": null,
   "id": "25e9cf9c",
   "metadata": {},
   "outputs": [],
   "source": [
    "import torchtext\n",
    "from torchtext.data import Field\n",
    "\n",
    "def tokenizer(text):\n",
    "    text = re.sub('[\\[\\]\\']', '', str(text))\n",
    "    text = text.split(', ')\n",
    "    return text\n",
    "\n",
    "TEXT = Field(tokenize= tokenizer)\n",
    "LABEL = Field(sequential = False)"
   ]
  }
 ],
 "metadata": {
  "kernelspec": {
   "display_name": "Python 3",
   "language": "python",
   "name": "python3"
  },
  "language_info": {
   "codemirror_mode": {
    "name": "ipython",
    "version": 3
   },
   "file_extension": ".py",
   "mimetype": "text/x-python",
   "name": "python",
   "nbconvert_exporter": "python",
   "pygments_lexer": "ipython3",
   "version": "3.8.10"
  }
 },
 "nbformat": 4,
 "nbformat_minor": 5
}
