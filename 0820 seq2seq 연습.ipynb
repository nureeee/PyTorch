{
 "cells": [
  {
   "cell_type": "code",
   "execution_count": 1,
   "id": "46e18e83",
   "metadata": {},
   "outputs": [],
   "source": [
    "from __future__ import unicode_literals, print_function, division\n",
    "import torch\n",
    "import torch.nn as nn\n",
    "import torch.optim as optim\n",
    "import torch.nn.functional as F\n",
    "\n",
    "import numpy as np\n",
    "import pandas as pd\n",
    "\n",
    "import os\n",
    "import re\n",
    "import random"
   ]
  },
  {
   "cell_type": "code",
   "execution_count": 2,
   "id": "493055b0",
   "metadata": {},
   "outputs": [],
   "source": [
    "torch.manual_seed(0)\n",
    "device = torch.device(\"cuda\" if torch.cuda.is_available() else \"cpu\")"
   ]
  },
  {
   "cell_type": "code",
   "execution_count": 3,
   "id": "cb244bbe",
   "metadata": {},
   "outputs": [],
   "source": [
    "raw = [\"I feel hungry.\t나는 배가 고프다.\",\n",
    "       \"Pytorch is very easy.\t파이토치는 매우 쉽다.\",\n",
    "       \"Pytorch is a framework for deep learning.\t파이토치는 딥러닝을 위한 프레임워크이다.\",\n",
    "       \"Pytorch is very clear to use.\t파이토치는 사용하기 매우 직관적이다.\"]"
   ]
  },
  {
   "cell_type": "code",
   "execution_count": 4,
   "id": "9292f2a1",
   "metadata": {},
   "outputs": [],
   "source": [
    "SOS_token = 0\n",
    "EOS_token = 1"
   ]
  },
  {
   "cell_type": "code",
   "execution_count": 5,
   "id": "2bd24600",
   "metadata": {},
   "outputs": [],
   "source": [
    "# 기계가 번역할 때는 단어보다는 숫자를 더 잘 처리 하기 때문에 숫자로 넣어준 다음 데이터가 나오면 다시 숫자에서 단어로 바꿔주기 위해 \n",
    "# 아래와 같은 작업을 진행\n",
    "class Vocab:\n",
    "    def __init__(self):\n",
    "        self.vocab2index = {\"<SOS>\": SOS_token, \"<EOS>\": EOS_token} # 단어를 키값, 인덱스를 value값으로 저장\n",
    "        self.index2vocab = {SOS_token: \"<SOS>\", EOS_token: \"<EOS>\"} # 인덱스와 단어\n",
    "        self.vocab_count = {} # 단어가 나온 횟수 저장\n",
    "        self.n_vocab = len(self.vocab2index) # 단어 집한 개수\n",
    "\n",
    "    def add_vocab(self, sentence):\n",
    "        for word in sentence.split(\" \"): # 공백을 기준으로 단어 쪼개기\n",
    "            if word not in self.vocab2index: # 새로운 단어가 나오면 단어 인덱스를 부여하고 vocab에 저장\n",
    "                self.vocab2index[word] = self.n_vocab # 단어에 인덱스 줌\n",
    "                self.vocab_count[word] = 1 # 단어가 한 번 나옴\n",
    "                self.index2vocab[self.n_vocab] = word # 인덱스에 단어 \n",
    "                self.n_vocab += 1 # 단어 집합의 수에 하나 추가\n",
    "            else:\n",
    "                self.vocab_count[word] += 1 # 이미 있는 단어라면 단어가 나온 횟수만 증가"
   ]
  },
  {
   "cell_type": "code",
   "execution_count": 6,
   "id": "d1bfbb77",
   "metadata": {},
   "outputs": [],
   "source": [
    "# 길이가 긴 문장 처리\n",
    "def filter_pair(pair, source_max_length, target_max_length): # 최대 길이를 지정\n",
    "    return len(pair[0].split(\" \")) < source_max_length and len(pair[1].split(\" \")) < target_max_length # 최대 문장 까지만 리턴한다."
   ]
  },
  {
   "cell_type": "code",
   "execution_count": 60,
   "id": "63deb002",
   "metadata": {},
   "outputs": [],
   "source": [
    "# 모델에 넣기 전 데이터 전처리\n",
    "def preprocess(corpus, source_max_length, target_max_length):\n",
    "    print()\n",
    "    pairs=[]\n",
    "    for line in corpus: \n",
    "        pairs.append([s for s in line.strip().lower().split(\"\\t\")]) # 소스와 타켓으로 나눈다\n",
    "    print(\"Read {} sentence pairs\".format(len(pairs))) # 문장의 개수\n",
    "    \n",
    "    pairs = [pair for pair in pairs if filter_pair(pair, source_max_length, target_max_length)] # 최대 문장을 기준으로 데이터 정제/..?\n",
    "    print(\"Trimmed to {} sentence pairs\".format(len(pairs)))\n",
    "    \n",
    "    source_vocab = Vocab()\n",
    "    target_vocab = Vocab()\n",
    "    \n",
    "    print()\n",
    "    \n",
    "    for pair in pairs:\n",
    "        source_vocab.add_vocab(pair[0]) # 자른 문장의 앞부분을 소스 단어 보캡에 저장\n",
    "        target_vocab.add_vocab(pair[1]) # 자른 문장의 뒷부분을 타겟보캡에 저장\n",
    "    print(\"source vocab size =\", source_vocab.n_vocab)\n",
    "    print(\"target vocab size =\", target_vocab.n_vocab)\n",
    "    \n",
    "    return pairs, source_vocab, target_vocab"
   ]
  },
  {
   "cell_type": "code",
   "execution_count": 61,
   "id": "6c053df3",
   "metadata": {},
   "outputs": [],
   "source": [
    "# 인코더\n",
    "class Encoder(nn.Module):\n",
    "    def __init__(self, input_size, hidden_size): # 인풋 사이즈와 히든사이즈 \n",
    "        super(Encoder, self).__init__()\n",
    "        self.hidden_size = hidden_size\n",
    "        self.embedding = nn.Embedding(input_size, hidden_size) # 임베딩은 토치 라이브러리 함수 사용.?\n",
    "        self.gru = nn.GRU(hidden_size, hidden_size)\n",
    "\n",
    "    def forward(self, x, hidden):\n",
    "        \n",
    "        x = self.embedding(x).view(1, 1, -1) # 데이터가 학습할 수 있는 형태로 바꾸기\n",
    "        x, hidden = self.gru(x, hidden) # GRU의 리턴값은 (배치 크기, 시퀀스 길이, 은닉 상태의 크기)\n",
    "        return x, hidden # 인코더의 결과값이 디코더의 인풋으로 들어가기 때문에 리턴\n",
    "                         # 인코더의 히든사이즈를 디코더에서도 쓸 예정이기 때문에 리턴"
   ]
  },
  {
   "cell_type": "code",
   "execution_count": 80,
   "id": "c978667e",
   "metadata": {},
   "outputs": [],
   "source": [
    "# 디코더\n",
    "class Decoder(nn.Module):\n",
    "    def __init__(self, hidden_size, output_size):\n",
    "        super(Decoder, self).__init__()\n",
    "        self.hidden_size = hidden_size\n",
    "        self.embedding = nn.Embedding(output_size, hidden_size)\n",
    "        self.gru = nn.GRU(hidden_size, hidden_size)\n",
    "        self.out = nn.Linear(hidden_size, output_size) # 결과값 출력\n",
    "        self.softmax = nn.LogSoftmax(dim=1) # 활성화 함수\n",
    "\n",
    "    def forward(self, x, hidden):\n",
    "        \n",
    "        x = self.embedding(x).view(1, 1, -1)\n",
    "        x, hidden = self.gru(x, hidden)\n",
    "#         print(x[0])\n",
    "        x = self.softmax(self.out(x[0])) #\n",
    "        return x, hidden"
   ]
  },
  {
   "cell_type": "code",
   "execution_count": 81,
   "id": "3b2a8de8",
   "metadata": {},
   "outputs": [],
   "source": [
    "# 문장들을 인덱스 텐서로 바꿔준다.\n",
    "# 왜? 네트워크가 텐서 타입 데이터만 읽을 수 있어서\n",
    "def tensorize(vocab, sentence):\n",
    "    indexes = [vocab.vocab2index[word] for word in sentence.split(\" \")]\n",
    "    indexes.append(vocab.vocab2index[\"<EOS>\"])\n",
    "    return torch.Tensor(indexes).long().to(device).view(-1, 1)"
   ]
  },
  {
   "cell_type": "code",
   "execution_count": 82,
   "id": "fe9c5a26",
   "metadata": {},
   "outputs": [],
   "source": [
    "# 훈련 seq2seq\n",
    "\n",
    "def train(pairs, source_vocab, target_vocab, encoder, decoder, n_iter, print_every=1000, learning_rate=0.01): #  n_iter : 반복횟수\n",
    "    loss_total = 0\n",
    "\n",
    "    encoder_optimizer = optim.SGD(encoder.parameters(), lr=learning_rate) \n",
    "    decoder_optimizer = optim.SGD(decoder.parameters(), lr=learning_rate) \n",
    "\n",
    "    training_batch = [random.choice(pairs) for _ in range(n_iter)] \n",
    "    training_source = [tensorize(source_vocab, pair[0]) for pair in training_batch]\n",
    "    training_target = [tensorize(target_vocab, pair[1]) for pair in training_batch]\n",
    "\n",
    "    criterion = nn.NLLLoss()\n",
    "    \n",
    "    for i in range(1, n_iter + 1): # 횟수로 나타내기 위해 1 더함\n",
    "        source_tensor = training_source[i - 1] # 0부터 시작하기 때문에 1 빼줌\n",
    "        target_tensor = training_target[i - 1] \n",
    "\n",
    "        encoder_hidden = torch.zeros([1, 1, encoder.hidden_size]).to(device) # 디바이스를 to로 빼서 따로 써줌\n",
    "\n",
    "        encoder_optimizer.zero_grad() # 역전파 할 때 데이터 업데이트 하기 위해\n",
    "        decoder_optimizer.zero_grad()\n",
    "\n",
    "        source_length = source_tensor.size(0) \n",
    "        target_length = target_tensor.size(0)\n",
    "\n",
    "        loss = 0\n",
    "\n",
    "        for enc_input in range(source_length): # 인코더에 소스데이터 넣어 훈련 진행\n",
    "#             print(f'인코더에서 인풋 사이즈 : {source_tensor[enc_input]}')\n",
    "            _, encoder_hidden = encoder(source_tensor[enc_input], encoder_hidden)\n",
    "\n",
    "        decoder_input = torch.Tensor([[SOS_token]]).long().to(device) # 디코더 sos토큰을 넣어준다.\n",
    "#         print(f'디코더에서 인풋 : {decoder_input}')\n",
    "        decoder_hidden = encoder_hidden # 인코더의 출력값은 디코더의 인풋 데이터가 된다.\n",
    "\n",
    "        for di in range(target_length): # 정답 레이블\n",
    "            decoder_output, decoder_hidden = decoder(decoder_input, decoder_hidden)\n",
    "#             print(f'디코더에서 아웃풋 : {decoder_output}')\n",
    "            loss += criterion(decoder_output, target_tensor[di]) #오차계산 \n",
    "            decoder_input = target_tensor[di]  # teacher forcing\n",
    "\n",
    "        loss.backward()\n",
    "\n",
    "        encoder_optimizer.step() # 인코더 최적합\n",
    "        decoder_optimizer.step() # 디코더 최적합\n",
    "\n",
    "        loss_iter = loss.item() / target_length # epoch\n",
    "        loss_total += loss_iter \n",
    "\n",
    "        if i % print_every == 0:\n",
    "            loss_avg = loss_total / print_every # 배치별 평균 오차\n",
    "            loss_total = 0\n",
    "            print(\"[{} - {}%] loss = {:05.4f}\".format(i, i / n_iter * 100, loss_avg))"
   ]
  },
  {
   "cell_type": "code",
   "execution_count": 83,
   "id": "75fb1188",
   "metadata": {},
   "outputs": [],
   "source": [
    "# 문장을 넣고 평가하기\n",
    "def evaluate(pairs, source_vocab, target_vocab, encoder, decoder, target_max_length):\n",
    "    for pair in pairs:\n",
    "        print(\">\", pair[0])\n",
    "        print(\"=\", pair[1])\n",
    "        source_tensor = tensorize(source_vocab, pair[0])\n",
    "        source_length = source_tensor.size()[0]\n",
    "        encoder_hidden = torch.zeros([1, 1, encoder.hidden_size]).to(device)\n",
    "\n",
    "        for ei in range(source_length):\n",
    "            _, encoder_hidden = encoder(source_tensor[ei], encoder_hidden) # shaped을 변경하고 인코더에 넣음\n",
    "\n",
    "        decoder_input = torch.Tensor([[SOS_token]]).to(device).long() # device to에 넣어야 된다... 안에서 정의하면 cpu로 실행된다.\n",
    "        decoder_hidden = encoder_hidden\n",
    "        decoded_words = []\n",
    "\n",
    "        for di in range(target_max_length):\n",
    "            decoder_output, decoder_hidden = decoder(decoder_input, decoder_hidden)\n",
    "            _, top_index = decoder_output.data.topk(1) # 디코딩해서 나온 값을 인덱스 형태로 저장되어잇음\n",
    "            if top_index.item() == EOS_token:\n",
    "                decoded_words.append(\"<EOS>\") # 문장이 끝나면 eos 넣고 끝\n",
    "                break\n",
    "            else:\n",
    "                decoded_words.append(target_vocab.index2vocab[top_index.item()]) # 인덱스를 단어로 변경해서 아웃풋 저장\n",
    "\n",
    "            decoder_input = top_index.squeeze().detach() \n",
    "\n",
    "        predict_words = decoded_words # 예측한 값 저장\n",
    "        predict_sentence = \" \".join(predict_words) \n",
    "        print(\"<\", predict_sentence)\n",
    "        print(\"\")"
   ]
  },
  {
   "cell_type": "code",
   "execution_count": 84,
   "id": "c224e3c2",
   "metadata": {},
   "outputs": [],
   "source": [
    "# 최대 길이 지정\n",
    "SOURCE_MAX_LENGTH = 10\n",
    "TARGET_MAX_LENGTH = 12"
   ]
  },
  {
   "cell_type": "code",
   "execution_count": 85,
   "id": "eaf75fda",
   "metadata": {},
   "outputs": [
    {
     "name": "stdout",
     "output_type": "stream",
     "text": [
      "\n",
      "Read 4 sentence pairs\n",
      "Trimmed to 4 sentence pairs\n",
      "\n",
      "source vocab size = 17\n",
      "target vocab size = 13\n",
      "['pytorch is a framework for deep learning.', '파이토치는 딥러닝을 위한 프레임워크이다.']\n"
     ]
    }
   ],
   "source": [
    "# 병렬 코퍼스 형태로 데이터 변환\n",
    "load_pairs, load_source_vocab, load_target_vocab = preprocess(raw, SOURCE_MAX_LENGTH, TARGET_MAX_LENGTH)\n",
    "print(random.choice(load_pairs))"
   ]
  },
  {
   "cell_type": "code",
   "execution_count": 86,
   "id": "18742806",
   "metadata": {},
   "outputs": [],
   "source": [
    "# 인코딩과 디코딩의 히든 사이즈 지정\n",
    "# 인코딩과 디코딩 실행\n",
    "enc_hidden_size = 16\n",
    "dec_hidden_size = enc_hidden_size\n",
    "enc = Encoder(load_source_vocab.n_vocab, enc_hidden_size).to(device)\n",
    "dec = Decoder(dec_hidden_size, load_target_vocab.n_vocab).to(device)"
   ]
  },
  {
   "cell_type": "code",
   "execution_count": 87,
   "id": "a090f324",
   "metadata": {},
   "outputs": [
    {
     "name": "stdout",
     "output_type": "stream",
     "text": [
      "[1000 - 20.0%] loss = 0.6863\n",
      "[2000 - 40.0%] loss = 0.1111\n",
      "[3000 - 60.0%] loss = 0.0366\n",
      "[4000 - 80.0%] loss = 0.0208\n",
      "[5000 - 100.0%] loss = 0.0144\n"
     ]
    }
   ],
   "source": [
    "train(load_pairs, load_source_vocab, load_target_vocab, enc, dec, 5000, print_every=1000)"
   ]
  },
  {
   "cell_type": "code",
   "execution_count": 88,
   "id": "e5af9c69",
   "metadata": {
    "scrolled": true
   },
   "outputs": [
    {
     "name": "stdout",
     "output_type": "stream",
     "text": [
      "> i feel hungry.\n",
      "= 나는 배가 고프다.\n",
      "< 나는 배가 고프다. <EOS>\n",
      "\n",
      "> pytorch is very easy.\n",
      "= 파이토치는 매우 쉽다.\n",
      "< 파이토치는 매우 쉽다. <EOS>\n",
      "\n",
      "> pytorch is a framework for deep learning.\n",
      "= 파이토치는 딥러닝을 위한 프레임워크이다.\n",
      "< 파이토치는 딥러닝을 위한 프레임워크이다. <EOS>\n",
      "\n",
      "> pytorch is very clear to use.\n",
      "= 파이토치는 사용하기 매우 직관적이다.\n",
      "< 파이토치는 사용하기 매우 직관적이다. <EOS>\n",
      "\n"
     ]
    }
   ],
   "source": [
    "# 주어진 데이터로 모델 평가\n",
    "evaluate(load_pairs, load_source_vocab, load_target_vocab, enc, dec, TARGET_MAX_LENGTH)"
   ]
  },
  {
   "cell_type": "code",
   "execution_count": null,
   "id": "c8df8a4b",
   "metadata": {},
   "outputs": [],
   "source": []
  },
  {
   "cell_type": "code",
   "execution_count": null,
   "id": "4e82e32a",
   "metadata": {},
   "outputs": [],
   "source": []
  }
 ],
 "metadata": {
  "kernelspec": {
   "display_name": "Python 3",
   "language": "python",
   "name": "python3"
  },
  "language_info": {
   "codemirror_mode": {
    "name": "ipython",
    "version": 3
   },
   "file_extension": ".py",
   "mimetype": "text/x-python",
   "name": "python",
   "nbconvert_exporter": "python",
   "pygments_lexer": "ipython3",
   "version": "3.8.10"
  }
 },
 "nbformat": 4,
 "nbformat_minor": 5
}
