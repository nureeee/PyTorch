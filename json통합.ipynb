{
 "cells": [
  {
   "cell_type": "code",
   "execution_count": 1,
   "id": "d9c4e449",
   "metadata": {},
   "outputs": [],
   "source": [
    "import json\n",
    "import glob"
   ]
  },
  {
   "cell_type": "code",
   "execution_count": 4,
   "id": "83d749f7",
   "metadata": {},
   "outputs": [
    {
     "name": "stderr",
     "output_type": "stream",
     "text": [
      "<ipython-input-4-df44ade8e44e>:3: TqdmDeprecationWarning: This function will be removed in tqdm==5.0.0\n",
      "Please use `tqdm.notebook.tqdm` instead of `tqdm.tqdm_notebook`\n",
      "  for f in tqdm_notebook(glob.glob(\"C:/Users/CPB06GameN/Desktop/TED/cleansing_data/*.json\")):\n"
     ]
    },
    {
     "data": {
      "application/vnd.jupyter.widget-view+json": {
       "model_id": "2e919431decb4e6691d7201c3bb569ac",
       "version_major": 2,
       "version_minor": 0
      },
      "text/plain": [
       "  0%|          | 0/2510 [00:00<?, ?it/s]"
      ]
     },
     "metadata": {},
     "output_type": "display_data"
    },
    {
     "ename": "KeyboardInterrupt",
     "evalue": "",
     "output_type": "error",
     "traceback": [
      "\u001b[1;31m---------------------------------------------------------------------------\u001b[0m",
      "\u001b[1;31mKeyboardInterrupt\u001b[0m                         Traceback (most recent call last)",
      "\u001b[1;32m<ipython-input-4-df44ade8e44e>\u001b[0m in \u001b[0;36m<module>\u001b[1;34m\u001b[0m\n\u001b[0;32m      1\u001b[0m \u001b[0mresult\u001b[0m \u001b[1;33m=\u001b[0m \u001b[1;34m''\u001b[0m\u001b[1;33m\u001b[0m\u001b[1;33m\u001b[0m\u001b[0m\n\u001b[0;32m      2\u001b[0m \u001b[1;32mfrom\u001b[0m \u001b[0mtqdm\u001b[0m \u001b[1;32mimport\u001b[0m \u001b[0mtqdm_notebook\u001b[0m\u001b[1;33m\u001b[0m\u001b[1;33m\u001b[0m\u001b[0m\n\u001b[1;32m----> 3\u001b[1;33m \u001b[1;32mfor\u001b[0m \u001b[0mf\u001b[0m \u001b[1;32min\u001b[0m \u001b[0mtqdm_notebook\u001b[0m\u001b[1;33m(\u001b[0m\u001b[0mglob\u001b[0m\u001b[1;33m.\u001b[0m\u001b[0mglob\u001b[0m\u001b[1;33m(\u001b[0m\u001b[1;34m\"C:/Users/CPB06GameN/Desktop/TED/cleansing_data/*.json\"\u001b[0m\u001b[1;33m)\u001b[0m\u001b[1;33m)\u001b[0m\u001b[1;33m:\u001b[0m\u001b[1;33m\u001b[0m\u001b[1;33m\u001b[0m\u001b[0m\n\u001b[0m\u001b[0;32m      4\u001b[0m     \u001b[1;32mwith\u001b[0m \u001b[0mopen\u001b[0m\u001b[1;33m(\u001b[0m\u001b[0mf\u001b[0m\u001b[1;33m,\u001b[0m \u001b[1;34m'r'\u001b[0m\u001b[1;33m,\u001b[0m \u001b[0mencoding\u001b[0m\u001b[1;33m=\u001b[0m\u001b[1;34m'utf-8'\u001b[0m\u001b[1;33m)\u001b[0m \u001b[1;32mas\u001b[0m \u001b[0minfile\u001b[0m\u001b[1;33m:\u001b[0m\u001b[1;33m\u001b[0m\u001b[1;33m\u001b[0m\u001b[0m\n\u001b[0;32m      5\u001b[0m         \u001b[0mresult\u001b[0m \u001b[1;33m+=\u001b[0m \u001b[0minfile\u001b[0m\u001b[1;33m.\u001b[0m\u001b[0mread\u001b[0m\u001b[1;33m(\u001b[0m\u001b[1;33m)\u001b[0m\u001b[1;33m\u001b[0m\u001b[1;33m\u001b[0m\u001b[0m\n",
      "\u001b[1;32m~\\anaconda3\\lib\\site-packages\\tqdm\\notebook.py\u001b[0m in \u001b[0;36m__iter__\u001b[1;34m(self)\u001b[0m\n\u001b[0;32m    252\u001b[0m     \u001b[1;32mdef\u001b[0m \u001b[0m__iter__\u001b[0m\u001b[1;33m(\u001b[0m\u001b[0mself\u001b[0m\u001b[1;33m)\u001b[0m\u001b[1;33m:\u001b[0m\u001b[1;33m\u001b[0m\u001b[1;33m\u001b[0m\u001b[0m\n\u001b[0;32m    253\u001b[0m         \u001b[1;32mtry\u001b[0m\u001b[1;33m:\u001b[0m\u001b[1;33m\u001b[0m\u001b[1;33m\u001b[0m\u001b[0m\n\u001b[1;32m--> 254\u001b[1;33m             \u001b[1;32mfor\u001b[0m \u001b[0mobj\u001b[0m \u001b[1;32min\u001b[0m \u001b[0msuper\u001b[0m\u001b[1;33m(\u001b[0m\u001b[0mtqdm_notebook\u001b[0m\u001b[1;33m,\u001b[0m \u001b[0mself\u001b[0m\u001b[1;33m)\u001b[0m\u001b[1;33m.\u001b[0m\u001b[0m__iter__\u001b[0m\u001b[1;33m(\u001b[0m\u001b[1;33m)\u001b[0m\u001b[1;33m:\u001b[0m\u001b[1;33m\u001b[0m\u001b[1;33m\u001b[0m\u001b[0m\n\u001b[0m\u001b[0;32m    255\u001b[0m                 \u001b[1;31m# return super(tqdm...) will not catch exception\u001b[0m\u001b[1;33m\u001b[0m\u001b[1;33m\u001b[0m\u001b[1;33m\u001b[0m\u001b[0m\n\u001b[0;32m    256\u001b[0m                 \u001b[1;32myield\u001b[0m \u001b[0mobj\u001b[0m\u001b[1;33m\u001b[0m\u001b[1;33m\u001b[0m\u001b[0m\n",
      "\u001b[1;32m~\\anaconda3\\lib\\site-packages\\tqdm\\std.py\u001b[0m in \u001b[0;36m__iter__\u001b[1;34m(self)\u001b[0m\n\u001b[0;32m   1193\u001b[0m                     \u001b[0mdt\u001b[0m \u001b[1;33m=\u001b[0m \u001b[0mcur_t\u001b[0m \u001b[1;33m-\u001b[0m \u001b[0mlast_print_t\u001b[0m\u001b[1;33m\u001b[0m\u001b[1;33m\u001b[0m\u001b[0m\n\u001b[0;32m   1194\u001b[0m                     \u001b[1;32mif\u001b[0m \u001b[0mdt\u001b[0m \u001b[1;33m>=\u001b[0m \u001b[0mmininterval\u001b[0m \u001b[1;32mand\u001b[0m \u001b[0mcur_t\u001b[0m \u001b[1;33m>=\u001b[0m \u001b[0mmin_start_t\u001b[0m\u001b[1;33m:\u001b[0m\u001b[1;33m\u001b[0m\u001b[1;33m\u001b[0m\u001b[0m\n\u001b[1;32m-> 1195\u001b[1;33m                         \u001b[0mself\u001b[0m\u001b[1;33m.\u001b[0m\u001b[0mupdate\u001b[0m\u001b[1;33m(\u001b[0m\u001b[0mn\u001b[0m \u001b[1;33m-\u001b[0m \u001b[0mlast_print_n\u001b[0m\u001b[1;33m)\u001b[0m\u001b[1;33m\u001b[0m\u001b[1;33m\u001b[0m\u001b[0m\n\u001b[0m\u001b[0;32m   1196\u001b[0m                         \u001b[0mlast_print_n\u001b[0m \u001b[1;33m=\u001b[0m \u001b[0mself\u001b[0m\u001b[1;33m.\u001b[0m\u001b[0mlast_print_n\u001b[0m\u001b[1;33m\u001b[0m\u001b[1;33m\u001b[0m\u001b[0m\n\u001b[0;32m   1197\u001b[0m                         \u001b[0mlast_print_t\u001b[0m \u001b[1;33m=\u001b[0m \u001b[0mself\u001b[0m\u001b[1;33m.\u001b[0m\u001b[0mlast_print_t\u001b[0m\u001b[1;33m\u001b[0m\u001b[1;33m\u001b[0m\u001b[0m\n",
      "\u001b[1;32m~\\anaconda3\\lib\\site-packages\\tqdm\\notebook.py\u001b[0m in \u001b[0;36mupdate\u001b[1;34m(self, n)\u001b[0m\n\u001b[0;32m    264\u001b[0m     \u001b[1;32mdef\u001b[0m \u001b[0mupdate\u001b[0m\u001b[1;33m(\u001b[0m\u001b[0mself\u001b[0m\u001b[1;33m,\u001b[0m \u001b[0mn\u001b[0m\u001b[1;33m=\u001b[0m\u001b[1;36m1\u001b[0m\u001b[1;33m)\u001b[0m\u001b[1;33m:\u001b[0m\u001b[1;33m\u001b[0m\u001b[1;33m\u001b[0m\u001b[0m\n\u001b[0;32m    265\u001b[0m         \u001b[1;32mtry\u001b[0m\u001b[1;33m:\u001b[0m\u001b[1;33m\u001b[0m\u001b[1;33m\u001b[0m\u001b[0m\n\u001b[1;32m--> 266\u001b[1;33m             \u001b[1;32mreturn\u001b[0m \u001b[0msuper\u001b[0m\u001b[1;33m(\u001b[0m\u001b[0mtqdm_notebook\u001b[0m\u001b[1;33m,\u001b[0m \u001b[0mself\u001b[0m\u001b[1;33m)\u001b[0m\u001b[1;33m.\u001b[0m\u001b[0mupdate\u001b[0m\u001b[1;33m(\u001b[0m\u001b[0mn\u001b[0m\u001b[1;33m=\u001b[0m\u001b[0mn\u001b[0m\u001b[1;33m)\u001b[0m\u001b[1;33m\u001b[0m\u001b[1;33m\u001b[0m\u001b[0m\n\u001b[0m\u001b[0;32m    267\u001b[0m         \u001b[1;31m# NB: except ... [ as ...] breaks IPython async KeyboardInterrupt\u001b[0m\u001b[1;33m\u001b[0m\u001b[1;33m\u001b[0m\u001b[1;33m\u001b[0m\u001b[0m\n\u001b[0;32m    268\u001b[0m         \u001b[1;32mexcept\u001b[0m\u001b[1;33m:\u001b[0m  \u001b[1;31m# NOQA\u001b[0m\u001b[1;33m\u001b[0m\u001b[1;33m\u001b[0m\u001b[0m\n",
      "\u001b[1;32m~\\anaconda3\\lib\\site-packages\\tqdm\\std.py\u001b[0m in \u001b[0;36mupdate\u001b[1;34m(self, n)\u001b[0m\n\u001b[0;32m   1242\u001b[0m                 \u001b[1;32mif\u001b[0m \u001b[0mself\u001b[0m\u001b[1;33m.\u001b[0m\u001b[0msmoothing\u001b[0m \u001b[1;32mand\u001b[0m \u001b[0mdt\u001b[0m \u001b[1;32mand\u001b[0m \u001b[0mdn\u001b[0m\u001b[1;33m:\u001b[0m\u001b[1;33m\u001b[0m\u001b[1;33m\u001b[0m\u001b[0m\n\u001b[0;32m   1243\u001b[0m                     \u001b[1;31m# EMA (not just overall average)\u001b[0m\u001b[1;33m\u001b[0m\u001b[1;33m\u001b[0m\u001b[1;33m\u001b[0m\u001b[0m\n\u001b[1;32m-> 1244\u001b[1;33m                     \u001b[0mself\u001b[0m\u001b[1;33m.\u001b[0m\u001b[0m_ema_dn\u001b[0m\u001b[1;33m(\u001b[0m\u001b[0mdn\u001b[0m\u001b[1;33m)\u001b[0m\u001b[1;33m\u001b[0m\u001b[1;33m\u001b[0m\u001b[0m\n\u001b[0m\u001b[0;32m   1245\u001b[0m                     \u001b[0mself\u001b[0m\u001b[1;33m.\u001b[0m\u001b[0m_ema_dt\u001b[0m\u001b[1;33m(\u001b[0m\u001b[0mdt\u001b[0m\u001b[1;33m)\u001b[0m\u001b[1;33m\u001b[0m\u001b[1;33m\u001b[0m\u001b[0m\n\u001b[0;32m   1246\u001b[0m                 \u001b[0mself\u001b[0m\u001b[1;33m.\u001b[0m\u001b[0mrefresh\u001b[0m\u001b[1;33m(\u001b[0m\u001b[0mlock_args\u001b[0m\u001b[1;33m=\u001b[0m\u001b[0mself\u001b[0m\u001b[1;33m.\u001b[0m\u001b[0mlock_args\u001b[0m\u001b[1;33m)\u001b[0m\u001b[1;33m\u001b[0m\u001b[1;33m\u001b[0m\u001b[0m\n",
      "\u001b[1;32m~\\anaconda3\\lib\\site-packages\\tqdm\\std.py\u001b[0m in \u001b[0;36m__call__\u001b[1;34m(self, x)\u001b[0m\n\u001b[0;32m    239\u001b[0m             \u001b[0mNew\u001b[0m \u001b[0mvalue\u001b[0m \u001b[0mto\u001b[0m \u001b[0minclude\u001b[0m \u001b[1;32min\u001b[0m \u001b[0mEMA\u001b[0m\u001b[1;33m.\u001b[0m\u001b[1;33m\u001b[0m\u001b[1;33m\u001b[0m\u001b[0m\n\u001b[0;32m    240\u001b[0m         \"\"\"\n\u001b[1;32m--> 241\u001b[1;33m         \u001b[0mbeta\u001b[0m \u001b[1;33m=\u001b[0m \u001b[1;36m1\u001b[0m \u001b[1;33m-\u001b[0m \u001b[0mself\u001b[0m\u001b[1;33m.\u001b[0m\u001b[0malpha\u001b[0m\u001b[1;33m\u001b[0m\u001b[1;33m\u001b[0m\u001b[0m\n\u001b[0m\u001b[0;32m    242\u001b[0m         \u001b[1;32mif\u001b[0m \u001b[0mx\u001b[0m \u001b[1;32mis\u001b[0m \u001b[1;32mnot\u001b[0m \u001b[1;32mNone\u001b[0m\u001b[1;33m:\u001b[0m\u001b[1;33m\u001b[0m\u001b[1;33m\u001b[0m\u001b[0m\n\u001b[0;32m    243\u001b[0m             \u001b[0mself\u001b[0m\u001b[1;33m.\u001b[0m\u001b[0mlast\u001b[0m \u001b[1;33m=\u001b[0m \u001b[0mself\u001b[0m\u001b[1;33m.\u001b[0m\u001b[0malpha\u001b[0m \u001b[1;33m*\u001b[0m \u001b[0mx\u001b[0m \u001b[1;33m+\u001b[0m \u001b[0mbeta\u001b[0m \u001b[1;33m*\u001b[0m \u001b[0mself\u001b[0m\u001b[1;33m.\u001b[0m\u001b[0mlast\u001b[0m\u001b[1;33m\u001b[0m\u001b[1;33m\u001b[0m\u001b[0m\n",
      "\u001b[1;31mKeyboardInterrupt\u001b[0m: "
     ]
    }
   ],
   "source": [
    "result = ''\n",
    "from tqdm import tqdm_notebook\n",
    "for f in tqdm_notebook(glob.glob(\"C:/Users/CPB06GameN/Desktop/Tatoeba\\Json/cleansing_data/*.json\")):\n",
    "    with open(f, 'r', encoding='utf-8') as infile:\n",
    "        result += infile.read()"
   ]
  },
  {
   "cell_type": "code",
   "execution_count": 14,
   "id": "75adbfcf",
   "metadata": {},
   "outputs": [
    {
     "name": "stderr",
     "output_type": "stream",
     "text": [
      "<ipython-input-14-fbb973077767>:2: TqdmDeprecationWarning: This function will be removed in tqdm==5.0.0\n",
      "Please use `tqdm.notebook.tqdm` instead of `tqdm.tqdm_notebook`\n",
      "  for f in tqdm_notebook(glob.glob(\"C:/Users/CPB06GameN/Desktop/Tatoeba/Json/cleansing_data/*.json\")):\n"
     ]
    },
    {
     "data": {
      "application/vnd.jupyter.widget-view+json": {
       "model_id": "6def9c466fb545ad9f6c58954bf3b3aa",
       "version_major": 2,
       "version_minor": 0
      },
      "text/plain": [
       "  0%|          | 0/355 [00:00<?, ?it/s]"
      ]
     },
     "metadata": {},
     "output_type": "display_data"
    }
   ],
   "source": [
    "data = []\n",
    "for f in tqdm_notebook(glob.glob(\"C:/Users/CPB06GameN/Desktop/Tatoeba/Json/cleansing_data/*.json\")):\n",
    "    with open(f, 'r', encoding='utf-8') as infile:\n",
    "        data += json.load(infile)"
   ]
  },
  {
   "cell_type": "code",
   "execution_count": 15,
   "id": "1fbaf400",
   "metadata": {},
   "outputs": [],
   "source": [
    "with open(\"C:/Users/CPB06GameN/Desktop/Tatoeba/Json/cleansing_data/Taboeba_total.json\", 'w', encoding='utf-8') as new_file:\n",
    "    json.dump(data, new_file, ensure_ascii=False, indent=\"\\t\")"
   ]
  },
  {
   "cell_type": "code",
   "execution_count": 2,
   "id": "d385115e",
   "metadata": {},
   "outputs": [],
   "source": [
    "import json\n",
    "with open(\"C:/Users/CPB06GameN/Desktop/Tatoeba/Json/cleansing_data/Taboeba_total.json\", 'r', encoding='utf-8') as new_file:\n",
    "    data = json.load(new_file)"
   ]
  },
  {
   "cell_type": "code",
   "execution_count": 3,
   "id": "93a9f32b",
   "metadata": {},
   "outputs": [
    {
     "data": {
      "text/plain": [
       "3543830"
      ]
     },
     "execution_count": 3,
     "metadata": {},
     "output_type": "execute_result"
    }
   ],
   "source": [
    "len(data)"
   ]
  },
  {
   "cell_type": "code",
   "execution_count": 10,
   "id": "3dff4fd0",
   "metadata": {},
   "outputs": [
    {
     "data": {
      "text/plain": [
       "5"
      ]
     },
     "execution_count": 10,
     "metadata": {},
     "output_type": "execute_result"
    }
   ],
   "source": [
    "len(data[1]['src_text'].replace(\" \", \"\"))"
   ]
  },
  {
   "cell_type": "code",
   "execution_count": 14,
   "id": "97cc7752",
   "metadata": {},
   "outputs": [
    {
     "name": "stdout",
     "output_type": "stream",
     "text": [
      "98999137 95609191\n"
     ]
    }
   ],
   "source": [
    "a = 0\n",
    "b = 0\n",
    "for i in data:\n",
    "    a += len(i['src_text'].replace(\" \", \"\"))\n",
    "    b += len(i['tgt_text'].replace(\" \", \"\"))\n",
    "    \n",
    "print(a, b)"
   ]
  },
  {
   "cell_type": "code",
   "execution_count": 15,
   "id": "af41cdb7",
   "metadata": {},
   "outputs": [
    {
     "data": {
      "text/plain": [
       "{'src_lang': 'ar',\n",
       " 'src_text_raw': 'ما هذا؟ ',\n",
       " 'src_text': 'ما هذا ',\n",
       " 'tgt_lang': 'zh',\n",
       " 'tgt_text_raw': '這是什麼啊？ ',\n",
       " 'tgt_text': '這是什麼啊？ ',\n",
       " 'origin': 'TATOEBA_v2021_07_22',\n",
       " 'domain': 'TATOEBA_v2021_07_22'}"
      ]
     },
     "execution_count": 15,
     "metadata": {},
     "output_type": "execute_result"
    }
   ],
   "source": [
    "data[1]"
   ]
  },
  {
   "cell_type": "code",
   "execution_count": 17,
   "id": "674d2ed0",
   "metadata": {},
   "outputs": [
    {
     "name": "stdout",
     "output_type": "stream",
     "text": [
      "{'hi', 'ja', 'ko', 'pt', 'zh', 'en', 'ar', 'de', 'it', 'id', 'fr', 'es', 'ru'}\n"
     ]
    }
   ],
   "source": [
    "s_lang = set()\n",
    "for i in data:\n",
    "    s_lang.add(i['src_lang'])\n",
    "print(s_lang)"
   ]
  },
  {
   "cell_type": "code",
   "execution_count": 18,
   "id": "a13660e3",
   "metadata": {},
   "outputs": [
    {
     "name": "stdout",
     "output_type": "stream",
     "text": [
      "{'hi', 'ja', 'ko', 'pt', 'zh', 'vi', 'en', 'de', 'it', 'id', 'fr', 'es', 'ru'}\n"
     ]
    }
   ],
   "source": [
    "t_lang = set()\n",
    "for i in data:\n",
    "    t_lang.add(i['tgt_lang'])\n",
    "print(t_lang)"
   ]
  },
  {
   "cell_type": "code",
   "execution_count": 25,
   "id": "a82dfc29",
   "metadata": {},
   "outputs": [
    {
     "data": {
      "text/plain": [
       "85"
      ]
     },
     "execution_count": 25,
     "metadata": {},
     "output_type": "execute_result"
    }
   ],
   "source": [
    "lang_pair = set()\n",
    "for i in data:\n",
    "     lang_pair.add((i['src_lang'], i['tgt_lang']))\n",
    "len(lang_pair)"
   ]
  },
  {
   "cell_type": "code",
   "execution_count": 26,
   "id": "c5337de9",
   "metadata": {},
   "outputs": [],
   "source": [
    "lang_pairs = list(lang_pair)"
   ]
  },
  {
   "cell_type": "code",
   "execution_count": 27,
   "id": "181ac3d1",
   "metadata": {},
   "outputs": [
    {
     "data": {
      "text/plain": [
       "85"
      ]
     },
     "execution_count": 27,
     "metadata": {},
     "output_type": "execute_result"
    }
   ],
   "source": [
    "len(lang_pairs)"
   ]
  },
  {
   "cell_type": "code",
   "execution_count": 88,
   "id": "77e6b40d",
   "metadata": {},
   "outputs": [],
   "source": [
    "for lang in s_lang:\n",
    "    globals()['src_lan_{}'.format(lang)] = 0"
   ]
  },
  {
   "cell_type": "code",
   "execution_count": 89,
   "id": "6ebc0e5c",
   "metadata": {},
   "outputs": [],
   "source": [
    "for i in data:\n",
    "    for lang in s_lang:\n",
    "        if i['src_lang'] == lang:\n",
    "            globals()['src_lan_{}'.format(lang)] += 1"
   ]
  },
  {
   "cell_type": "code",
   "execution_count": 90,
   "id": "e4e8aaec",
   "metadata": {},
   "outputs": [],
   "source": [
    "for lang in s_lang:\n",
    "    globals()['src_lan_w_{}'.format(lang)] = 0"
   ]
  },
  {
   "cell_type": "code",
   "execution_count": 91,
   "id": "506264e7",
   "metadata": {},
   "outputs": [],
   "source": [
    "for i in data:\n",
    "    for lang in s_lang:\n",
    "        if i['src_lang'] == lang:\n",
    "            globals()['src_lan_w_{}'.format(lang)] += len(i['src_text'].replace(\" \", \"\"))"
   ]
  },
  {
   "cell_type": "code",
   "execution_count": 92,
   "id": "be333c89",
   "metadata": {},
   "outputs": [
    {
     "name": "stdout",
     "output_type": "stream",
     "text": [
      "hi : 161 / 4127\n",
      "ja : 31263 / 482919\n",
      "ko : 337 / 4155\n",
      "pt : 20057 / 581855\n",
      "zh : 98823 / 1048883\n",
      "en : 1949645 / 52081166\n",
      "ar : 40524 / 803037\n",
      "de : 699556 / 23912610\n",
      "it : 89608 / 2618055\n",
      "id : 3998 / 119542\n",
      "fr : 343204 / 9611326\n",
      "es : 266341 / 7722695\n",
      "ru : 313 / 8767\n"
     ]
    }
   ],
   "source": [
    "for lang in s_lang:\n",
    "    print(lang, ':', globals()['src_lan_{}'.format(lang)],'/', globals()['src_lan_w_{}'.format(lang)] )"
   ]
  },
  {
   "cell_type": "code",
   "execution_count": 93,
   "id": "0be1127b",
   "metadata": {},
   "outputs": [
    {
     "data": {
      "text/plain": [
       "3543830"
      ]
     },
     "execution_count": 93,
     "metadata": {},
     "output_type": "execute_result"
    }
   ],
   "source": [
    "total_s = 0\n",
    "for lang in s_lang:\n",
    "    total_s += globals()['src_lan_{}'.format(lang)]\n",
    "total_s"
   ]
  },
  {
   "cell_type": "code",
   "execution_count": null,
   "id": "ca47c08d",
   "metadata": {},
   "outputs": [],
   "source": []
  },
  {
   "cell_type": "code",
   "execution_count": null,
   "id": "7c1410fe",
   "metadata": {},
   "outputs": [],
   "source": []
  },
  {
   "cell_type": "code",
   "execution_count": 94,
   "id": "708e3453",
   "metadata": {},
   "outputs": [],
   "source": [
    "for lang in t_lang:\n",
    "    globals()['tgt_lan_{}'.format(lang)] = 0"
   ]
  },
  {
   "cell_type": "code",
   "execution_count": 95,
   "id": "ace7cfa2",
   "metadata": {},
   "outputs": [],
   "source": [
    "for i in data:\n",
    "    for lang in t_lang:\n",
    "        if i['tgt_lang'] == lang:\n",
    "            globals()['tgt_lan_{}'.format(lang)] += 1"
   ]
  },
  {
   "cell_type": "code",
   "execution_count": 96,
   "id": "6cc1edf1",
   "metadata": {},
   "outputs": [],
   "source": [
    "for lang in t_lang:\n",
    "    globals()['tgt_lan_w_{}'.format(lang)] = 0"
   ]
  },
  {
   "cell_type": "code",
   "execution_count": 97,
   "id": "68341d3e",
   "metadata": {},
   "outputs": [],
   "source": [
    "for i in data:\n",
    "    for lang in t_lang:\n",
    "        if i['tgt_lang'] == lang:\n",
    "            globals()['tgt_lan_w_{}'.format(lang)] += len(i['tgt_text'].replace(\" \", \"\"))"
   ]
  },
  {
   "cell_type": "code",
   "execution_count": 98,
   "id": "2ff33865",
   "metadata": {},
   "outputs": [
    {
     "name": "stdout",
     "output_type": "stream",
     "text": [
      "hi : 11370 / 272348\n",
      "ja : 336859 / 5726758\n",
      "ko : 6934 / 91823\n",
      "pt : 343736 / 10017256\n",
      "zh : 82 / 804\n",
      "vi : 10681 / 307975\n",
      "en : 381726 / 11188155\n",
      "de : 12690 / 400899\n",
      "it : 610388 / 16003059\n",
      "id : 11877 / 371686\n",
      "fr : 443702 / 14455040\n",
      "es : 311478 / 9426718\n",
      "ru : 1062307 / 27346670\n"
     ]
    }
   ],
   "source": [
    "for lang in t_lang:\n",
    "    print(lang, ':', globals()['tgt_lan_{}'.format(lang)],'/', globals()['tgt_lan_w_{}'.format(lang)] )"
   ]
  },
  {
   "cell_type": "code",
   "execution_count": 99,
   "id": "1fe794aa",
   "metadata": {},
   "outputs": [
    {
     "data": {
      "text/plain": [
       "3543830"
      ]
     },
     "execution_count": 99,
     "metadata": {},
     "output_type": "execute_result"
    }
   ],
   "source": [
    "total_t = 0\n",
    "for lang in t_lang:\n",
    "    total_t += globals()['tgt_lan_{}'.format(lang)]\n",
    "total_t"
   ]
  },
  {
   "cell_type": "code",
   "execution_count": 3,
   "id": "41a41307",
   "metadata": {},
   "outputs": [
    {
     "data": {
      "text/plain": [
       "{'raw_cnt': 0, 'cleansing_cnt': 0, 'line_cnt': 0}"
      ]
     },
     "execution_count": 3,
     "metadata": {},
     "output_type": "execute_result"
    }
   ],
   "source": []
  }
 ],
 "metadata": {
  "kernelspec": {
   "display_name": "Python 3",
   "language": "python",
   "name": "python3"
  },
  "language_info": {
   "codemirror_mode": {
    "name": "ipython",
    "version": 3
   },
   "file_extension": ".py",
   "mimetype": "text/x-python",
   "name": "python",
   "nbconvert_exporter": "python",
   "pygments_lexer": "ipython3",
   "version": "3.8.10"
  }
 },
 "nbformat": 4,
 "nbformat_minor": 5
}
